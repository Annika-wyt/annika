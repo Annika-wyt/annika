{
 "cells": [
  {
   "cell_type": "code",
   "execution_count": 19,
   "metadata": {},
   "outputs": [],
   "source": [
    "# ! pip install hyperopt"
   ]
  },
  {
   "cell_type": "code",
   "execution_count": 30,
   "metadata": {},
   "outputs": [
    {
     "name": "stdout",
     "output_type": "stream",
     "text": [
      "100%|██████████| 100/100 [00:00<00:00, 193.04trial/s, best loss: -19.599481121705974]\n",
      "{'a': 1, 'c21': -9.91517086919172, 'c22': -9.684310252514255}\n",
      "('case 2', (-9.91517086919172, -9.684310252514255))\n"
     ]
    }
   ],
   "source": [
    "def objective(args): # can also set different case\n",
    "    Q, R = args # argument that need to be tuned\n",
    "\n",
    "    output = val1 + val2\n",
    "        return output\n",
    "\n",
    "from hyperopt import hp\n",
    "space = hp.choice('a',\n",
    "    [\n",
    "        ('case 1', (hp.lognormal('c11', 0, 1), hp.lognormal('c12', 0, 1))),\n",
    "        ('case 2', (hp.uniform('c21', -10, 10), hp.uniform('c22', -10, 10)))\n",
    "    ])\n",
    "\n",
    "\n",
    "# minimize the objective over the space\n",
    "from hyperopt import fmin, tpe, space_eval\n",
    "best = fmin(objective, space, algo=tpe.suggest, max_evals=100)\n",
    "\n",
    "print(best)\n",
    "print(space_eval(space, best))"
   ]
  }
 ],
 "metadata": {
  "kernelspec": {
   "display_name": "Python 3",
   "language": "python",
   "name": "python3"
  },
  "language_info": {
   "codemirror_mode": {
    "name": "ipython",
    "version": 3
   },
   "file_extension": ".py",
   "mimetype": "text/x-python",
   "name": "python",
   "nbconvert_exporter": "python",
   "pygments_lexer": "ipython3",
   "version": "3.8.10"
  }
 },
 "nbformat": 4,
 "nbformat_minor": 2
}
