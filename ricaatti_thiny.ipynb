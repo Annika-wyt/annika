{
 "cells": [
  {
   "cell_type": "code",
   "execution_count": 962,
   "metadata": {},
   "outputs": [],
   "source": [
    "import numpy as np\n",
    "from scipy.spatial.transform import Rotation as sciptRot"
   ]
  },
  {
   "cell_type": "code",
   "execution_count": 963,
   "metadata": {},
   "outputs": [],
   "source": [
    "l = 3\n",
    "k = 1\n",
    "q = [10, 10, 10]\n",
    "Q = np.diag(np.hstack([np.diag(q[2]*np.eye(3)), np.diag(q[1]*np.eye(3)), np.diag(q[0]*np.eye(3))]))\n",
    "P_0 = np.diag(np.hstack([np.diag(np.eye(3)), np.diag(100*np.eye(3))]))\n",
    "V = np.diag(np.hstack([np.diag(0.1*np.eye(3)), np.diag(np.eye(3))]))\n",
    "p_0 = np.array([2.5, 0, 10]).T\n",
    "r_0 = np.eye(3)\n",
    "p_hat_0 = np.array([-2, 4,3]).T\n",
    "# w, x, y, z\n",
    "Lambda_bar_0 = np.array([np.sqrt(2)/2, np.sqrt(2)/2, 0, 0]).T"
   ]
  },
  {
   "cell_type": "code",
   "execution_count": 964,
   "metadata": {},
   "outputs": [],
   "source": [
    "# time \n",
    "times = np.linspace(0,100,9)\n",
    "# source point\n",
    "z = np.array([[0, 0, 0], [5, 0, 0], [2.5, 2.5, 0]])\n",
    "\n",
    "#C\n",
    "#position\n",
    "p_list = []\n",
    "#velocity\n",
    "v_list = []\n",
    "#angular velocity\n",
    "omega_list = []\n",
    "\n",
    "#velocity in different frame, R.T*v\n",
    "v_bar_list = []\n",
    "#position in different frame, R.T*p\n",
    "p_bar_list = []\n",
    "#position_bar_hat\n",
    "p_bar_hat_list = []\n",
    "#orientation list\n",
    "Lambda_bar_list = []\n",
    "#rot mat list\n",
    "r_hat_list = []\n",
    "# Racaati\n",
    "P_list = []\n",
    "P_list.append(P_0)\n",
    "\n",
    "A_list = []\n",
    "C_list = []\n"
   ]
  },
  {
   "cell_type": "code",
   "execution_count": 965,
   "metadata": {},
   "outputs": [],
   "source": [
    "p_list = []\n",
    "r_list = []\n",
    "p_hat_list = []\n",
    "Lambda_bar_list = []\n",
    "p_hat_list.append(p_hat_0)\n",
    "\n",
    "Lambda_bar_list.append(Lambda_bar_0)\n",
    "#USE VSTACK AFTERWARD\n",
    "# inital p and R definition"
   ]
  },
  {
   "cell_type": "code",
   "execution_count": 966,
   "metadata": {},
   "outputs": [],
   "source": [
    "def make_S(content):\n",
    "    output = [[0,           -content[2],    content[1]],\n",
    "              [content[2],  0,              -content[0]],\n",
    "              [-content[1], content[0],     0]]\n",
    "    return np.array(output)"
   ]
  },
  {
   "cell_type": "code",
   "execution_count": 967,
   "metadata": {},
   "outputs": [],
   "source": [
    "def make_d(R, p, z):\n",
    "    output = (np.matmul(R.T, ((p - z)/np.linalg.norm(p-z)))).tolist()\n",
    "    return np.array(output).reshape((3,1))"
   ]
  },
  {
   "cell_type": "code",
   "execution_count": 968,
   "metadata": {},
   "outputs": [
    {
     "name": "stdout",
     "output_type": "stream",
     "text": [
      "0.0\n",
      "[[[ 0.          0.          0.          0.8         0.\n",
      "   -0.4       ]\n",
      "  [ 0.          0.          0.          0.          1.\n",
      "    0.        ]\n",
      "  [ 0.          0.          0.         -0.4         0.\n",
      "    0.2       ]]\n",
      "\n",
      " [[ 0.          0.          5.          1.          0.\n",
      "    0.        ]\n",
      "  [ 0.          0.          0.          0.          1.\n",
      "    0.        ]\n",
      "  [ 0.          0.          0.          0.          0.\n",
      "    0.        ]]\n",
      "\n",
      " [[ 0.55555556 -0.55555556  2.22222222  0.94444444  0.05555556\n",
      "   -0.22222222]\n",
      "  [-0.55555556  0.55555556 -2.22222222  0.05555556  0.94444444\n",
      "    0.22222222]\n",
      "  [-0.27777778  0.27777778 -1.11111111 -0.22222222  0.22222222\n",
      "    0.11111111]]]\n",
      "(3, 3, 6)\n",
      "[[[  0.           0.           0.          80.           0.\n",
      "   -40.        ]\n",
      "  [  0.           0.           0.           0.         100.\n",
      "     0.        ]\n",
      "  [  0.           0.           0.         -40.           0.\n",
      "    20.        ]]\n",
      "\n",
      " [[  0.           0.           5.         100.           0.\n",
      "     0.        ]\n",
      "  [  0.           0.           0.           0.         100.\n",
      "     0.        ]\n",
      "  [  0.           0.           0.           0.           0.\n",
      "     0.        ]]\n",
      "\n",
      " [[  0.55555556  -0.55555556   2.22222222  94.44444444   5.55555556\n",
      "   -22.22222222]\n",
      "  [ -0.55555556   0.55555556  -2.22222222   5.55555556  94.44444444\n",
      "    22.22222222]\n",
      "  [ -0.27777778   0.27777778  -1.11111111 -22.22222222  22.22222222\n",
      "    11.11111111]]]\n"
     ]
    },
    {
     "name": "stderr",
     "output_type": "stream",
     "text": [
      "/tmp/ipykernel_37135/2187250428.py:5: VisibleDeprecationWarning: Creating an ndarray from ragged nested sequences (which is a list-or-tuple of lists-or-tuples-or ndarrays with different lengths or shapes) is deprecated. If you meant to do this, you must specify 'dtype=object' when creating the ndarray.\n",
      "  return np.array(output)\n"
     ]
    },
    {
     "ename": "TypeError",
     "evalue": "matmul() takes from 2 to 3 positional arguments but 1 were given",
     "output_type": "error",
     "traceback": [
      "\u001b[0;31m---------------------------------------------------------------------------\u001b[0m",
      "\u001b[0;31mTypeError\u001b[0m                                 Traceback (most recent call last)",
      "Cell \u001b[0;32mIn[968], line 56\u001b[0m\n\u001b[1;32m     54\u001b[0m \u001b[38;5;28mprint\u001b[39m(np\u001b[38;5;241m.\u001b[39mshape(C))\n\u001b[1;32m     55\u001b[0m \u001b[38;5;28mprint\u001b[39m(np\u001b[38;5;241m.\u001b[39mmatmul(C,P_list[\u001b[38;5;241m-\u001b[39m\u001b[38;5;241m1\u001b[39m]))\n\u001b[0;32m---> 56\u001b[0m \u001b[38;5;28mprint\u001b[39m(np\u001b[38;5;241m.\u001b[39mmatmul(P_list[\u001b[38;5;241m-\u001b[39m\u001b[38;5;241m1\u001b[39m], np\u001b[38;5;241m.\u001b[39mmatmul(C\u001b[38;5;241m.\u001b[39mT, \u001b[43mnp\u001b[49m\u001b[38;5;241;43m.\u001b[39;49m\u001b[43mmatmul\u001b[49m\u001b[43m(\u001b[49m\u001b[43mQ\u001b[49m\u001b[43m,\u001b[49m\u001b[43m)\u001b[49m)))\n\u001b[1;32m     57\u001b[0m P_dot \u001b[38;5;241m=\u001b[39m np\u001b[38;5;241m.\u001b[39mmatmul(A,P_list[\u001b[38;5;241m-\u001b[39m\u001b[38;5;241m1\u001b[39m]) \u001b[38;5;241m+\u001b[39m np\u001b[38;5;241m.\u001b[39mmatmul(P_list[\u001b[38;5;241m-\u001b[39m\u001b[38;5;241m1\u001b[39m], A\u001b[38;5;241m.\u001b[39mT) \u001b[38;5;241m-\u001b[39m np\u001b[38;5;241m.\u001b[39mmatmul(P_list[\u001b[38;5;241m-\u001b[39m\u001b[38;5;241m1\u001b[39m], np\u001b[38;5;241m.\u001b[39mmatmul(C\u001b[38;5;241m.\u001b[39mT, np\u001b[38;5;241m.\u001b[39mmatmul(Q,np\u001b[38;5;241m.\u001b[39mmatmul(C,P_list[\u001b[38;5;241m-\u001b[39m\u001b[38;5;241m1\u001b[39m])))) \u001b[38;5;241m+\u001b[39m V\n\u001b[1;32m     58\u001b[0m P_list\u001b[38;5;241m.\u001b[39mappend(P_dot)\n",
      "\u001b[0;31mTypeError\u001b[0m: matmul() takes from 2 to 3 positional arguments but 1 were given"
     ]
    }
   ],
   "source": [
    "new_estimate = []\n",
    "r_list.append(r_0)\n",
    "p_bar_hat = np.matmul(r_list, p_hat_list[-1])\n",
    "p_bar_hat_list.append(p_bar_hat)\n",
    "\n",
    "r_hat = sciptRot.from_quat(Lambda_bar_list[-1]).as_matrix()\n",
    "\n",
    "r_hat_list.append(r_hat)\n",
    "for t in times:\n",
    "    print(t)\n",
    "    # update p, v, omega, , orientation(r)\n",
    "    p = np.array([2.5 + 2.5*np.cos(0.4*t), 2.5*np.sin(0.4*t), 10])\n",
    "    v = np.array([-np.sin(0.4*t), np.cos(0.4*t), 0.6*t])\n",
    "    omega = np.array([0.1*np.sin(t), 0.4*np.cos(2*t), 0.6*t])\n",
    "    v_bar = np.matmul(r_list, v)[0]\n",
    "    p_bar = np.matmul(r_list, p)\n",
    "\n",
    "    A1 = np.hstack([-make_S(omega), np.zeros((3,3))])\n",
    "    A2 = np.hstack([np.zeros((3,3)), -make_S(omega)])\n",
    "    A = np.vstack([A1, A2])\n",
    "    A_list.append(A)\n",
    "    C = []\n",
    "    for idx in range(l):\n",
    "        base = (np.eye(3)- np.matmul(make_d(r_list[-1], p, z[idx]),make_d(r_list[-1], p, z[idx]).T))\n",
    "        temp = np.matmul(base, make_S(np.matmul(np.array(r_hat).T, z[idx])))\n",
    "        C.append(np.hstack((temp, base)).reshape(3,6))\n",
    "        print(C)\n",
    "        break\n",
    "    C = np.array(C)\n",
    "    C_list.append(C)\n",
    "    \n",
    "\n",
    "    p_list.append(p)\n",
    "    v_list.append(v)\n",
    "    omega_list.append(omega)\n",
    "    v_bar_list.append(v_bar)\n",
    "    p_bar_list.append(p_bar)\n",
    "    first_part = np.hstack((omega, -np.matmul(make_S(omega),p_bar_hat.T).T[0] + v_bar)).reshape((-1,1))\n",
    "    # print(\"first_part\", first_part)\n",
    "\n",
    "    upper = np.zeros(3)\n",
    "    lower = np.zeros(3)\n",
    "    for idx in range(l):\n",
    "        upper = q[idx]*(np.matmul(make_S(np.matmul(np.array(r_hat).T, z[idx])), np.matmul((np.eye(3)-np.matmul(make_d(r_list[-1], p, z[idx]), make_d(r_list[-1], p, z[idx]).T)), (p_bar_hat -np.matmul(np.array(r_hat).T, z[idx])).T)))\n",
    "        lower = q[idx]*(np.matmul((np.eye(3)-np.matmul(make_d(r_list[-1], p, z[idx]), make_d(r_list[-1], p, z[idx]).T)), (p_bar_hat -np.matmul(np.array(r_hat).T, z[idx])).T))\n",
    "        break\n",
    "    second_part = np.matmul(k*P_list[-1], np.vstack([upper, lower]))\n",
    "    result = first_part - second_part\n",
    "    omega_hat = result[0:3]\n",
    "    p_bar_hat = result[3:]\n",
    "    p_bar_hat_list.append(p_bar_hat)\n",
    "\n",
    "    r_hat = np.matmul(np.array(r_hat), make_S(omega_hat))\n",
    "    r_hat_list.append(r_hat)\n",
    "    print(np.shape(C))\n",
    "    print(np.matmul(C,P_list[-1]))\n",
    "    print(np.matmul(P_list[-1], np.matmul(C.T, np.matmul(Q,))))\n",
    "    P_dot = np.matmul(A,P_list[-1]) + np.matmul(P_list[-1], A.T) - np.matmul(P_list[-1], np.matmul(C.T, np.matmul(Q,np.matmul(C,P_list[-1])))) + V\n",
    "    P_list.append(P_dot)\n",
    "    break\n"
   ]
  },
  {
   "cell_type": "code",
   "execution_count": null,
   "metadata": {},
   "outputs": [
    {
     "data": {
      "text/plain": [
       "array([[0],\n",
       "       [1],\n",
       "       [2]])"
      ]
     },
     "execution_count": 214,
     "metadata": {},
     "output_type": "execute_result"
    }
   ],
   "source": []
  }
 ],
 "metadata": {
  "kernelspec": {
   "display_name": "Python 3",
   "language": "python",
   "name": "python3"
  },
  "language_info": {
   "codemirror_mode": {
    "name": "ipython",
    "version": 3
   },
   "file_extension": ".py",
   "mimetype": "text/x-python",
   "name": "python",
   "nbconvert_exporter": "python",
   "pygments_lexer": "ipython3",
   "version": "3.8.10"
  }
 },
 "nbformat": 4,
 "nbformat_minor": 2
}
