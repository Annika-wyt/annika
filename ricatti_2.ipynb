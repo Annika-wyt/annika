{
 "cells": [
  {
   "cell_type": "code",
   "execution_count": 333,
   "metadata": {},
   "outputs": [],
   "source": [
    "import numpy as np"
   ]
  },
  {
   "cell_type": "code",
   "execution_count": 334,
   "metadata": {},
   "outputs": [],
   "source": [
    "def function_S(input):\n",
    "    # input should be array\n",
    "    # output array\n",
    "    flattened_input = input.flatten()\n",
    "    output = [[0,           -flattened_input[2],    flattened_input[1]],\n",
    "              [flattened_input[2],  0,              -flattened_input[0]],\n",
    "              [-flattened_input[1], flattened_input[0],     0]]\n",
    "    return np.array(output)"
   ]
  },
  {
   "cell_type": "code",
   "execution_count": 335,
   "metadata": {},
   "outputs": [],
   "source": [
    "def rodrigues_formula(quaternion):\n",
    "    '''\n",
    "    quaternion -> R_tile_bar\n",
    "    input: [w,x,y,z]\n",
    "    output R_tile_bar (rotation matrix)\n",
    "    '''\n",
    "    return np.eye(3) + 2*np.matmul(function_S(quaternion[1:]), (quaternion[0]*np.eye(3) + function_S(quaternion[1:])))\n"
   ]
  },
  {
   "cell_type": "code",
   "execution_count": 336,
   "metadata": {},
   "outputs": [],
   "source": [
    "l = 3\n",
    "k = 1\n",
    "q = [10, 10, 10]\n",
    "Q = np.diag(np.hstack([np.diag(q[2]*np.eye(3)), np.diag(q[1]*np.eye(3)), np.diag(q[0]*np.eye(3))]))\n",
    "V = np.diag(np.hstack([np.diag(0.1*np.eye(3)), np.diag(np.eye(3))]))\n",
    "P_0 = np.diag(np.hstack([np.diag(np.eye(3)), np.diag(100*np.eye(3))]))\n",
    "#initial state\n",
    "p_0 = np.array([[2.5, 0, 10]]).T\n",
    "R_0 = np.eye(3)\n",
    "\n",
    "#initial estimation\n",
    "p_hat_0 = np.array([[-2, 4, 3]]).T\n",
    "Lambda_bar_0 = np.array([np.sqrt(2)/2, np.sqrt(2)/2, 0, 0]).T  # quaternion: w, x, y, z\n",
    "## R_hat = R x R_tile_bar\n",
    "R_hat = np.matmul(R_0, rodrigues_formula(Lambda_bar_0))"
   ]
  },
  {
   "cell_type": "code",
   "execution_count": 359,
   "metadata": {},
   "outputs": [
    {
     "name": "stdout",
     "output_type": "stream",
     "text": [
      "[ 0.    1.25  2.5   3.75  5.    6.25  7.5   8.75 10.  ]\n"
     ]
    }
   ],
   "source": [
    "time = np.linspace(0, 10, 9)\n",
    "for t in time:\n",
    "    p = np.transpose(np.array([[2.5+2.5*np.cos(0.4*t), 2.5*np.sin(0.4*t), 10]]))\n",
    "    v = np.transpose(np.array([[-np.sin(0.4*t), np.cos(0.4*t), 0.6*t]]))\n",
    "    omega = np.transpose(np.array([[0.1*np.sin(t), 0.4*np.cos(2*t), 0.6*t]]))"
   ]
  },
  {
   "cell_type": "code",
   "execution_count": 338,
   "metadata": {},
   "outputs": [],
   "source": [
    "# landmarks\n",
    "z = np.array([[[0, 0, 0]], \n",
    "              [[5, 0, 0]],\n",
    "              [[2.5, 2.5, 0]]])"
   ]
  },
  {
   "cell_type": "code",
   "execution_count": 339,
   "metadata": {},
   "outputs": [],
   "source": [
    "A11 = -function_S(omega)\n",
    "A12 = np.zeros((3,3))\n",
    "A21 = np.zeros((3,3))\n",
    "A22 = -function_S(omega)\n",
    "A = np.vstack((np.hstack((A11, A12)), np.hstack((A21, A22))))"
   ]
  },
  {
   "cell_type": "code",
   "execution_count": 340,
   "metadata": {},
   "outputs": [],
   "source": [
    "def function_Pi(input):\n",
    "    '''\n",
    "    Pi_x := I_3 - xx^T\n",
    "    input: array\n",
    "    output P_x\n",
    "    '''\n",
    "    return np.eye(3) - np.matmul(input, np.transpose(input))"
   ]
  },
  {
   "cell_type": "code",
   "execution_count": 341,
   "metadata": {},
   "outputs": [],
   "source": [
    "def function_d(input_rot, input_p, input_z):\n",
    "    '''\n",
    "    calculate d_i(t) := R^T(t)(p(t) - z_i)/|p(t)-z_i|\n",
    "    '''\n",
    "    norm = (input_p - input_z)/np.linalg.norm(input_p - input_z)\n",
    "    return np.matmul(np.transpose(input_rot), norm)"
   ]
  },
  {
   "cell_type": "code",
   "execution_count": 342,
   "metadata": {},
   "outputs": [],
   "source": [
    "for landmark_idx in range(l):\n",
    "    # S(R_hat.T x z)\n",
    "    #TODO: remember to change the R_0 and p_0 below for gerenal\n",
    "    first = function_Pi(function_d(R_0, p_0, np.transpose(z[landmark_idx])))\n",
    "    second = function_S(np.matmul(np.transpose(R_hat), np.transpose(z[landmark_idx])))\n",
    "    final = -np.matmul(first, second)\n",
    "    C_landmark = np.hstack((final, first))\n",
    "    if landmark_idx == 0:\n",
    "        C = C_landmark\n",
    "    else:\n",
    "        C = np.vstack((C, C_landmark))"
   ]
  },
  {
   "cell_type": "code",
   "execution_count": 343,
   "metadata": {},
   "outputs": [],
   "source": [
    "def add_bar(input_rot, input):\n",
    "    return np.matmul(np.transpose(input_rot), input)"
   ]
  },
  {
   "cell_type": "code",
   "execution_count": 357,
   "metadata": {},
   "outputs": [],
   "source": [
    "# observer equation\n",
    "\n",
    "# omega_hat , p_bar_hat_dot\n",
    "# omega\n",
    "first_upper = omega\n",
    "#TODO: change this for general (R_0)\n",
    "p_bar_hat = add_bar(R_0, p_hat_0)\n",
    "\n",
    "# -S(omega)p_bat_hat + v_bar\n",
    "#TODO: change this for general (R_0)\n",
    "first_lower = np.matmul(-function_S(omega), p_bar_hat) + add_bar(R_0, v)\n",
    "first_part = np.vstack((first_upper, first_lower))\n",
    "\n",
    "# omega_hat second part upper\n",
    "final = np.transpose(np.array([[0, 0, 0]], dtype=np.float64))\n",
    "for landmark_idx in range(l):\n",
    "    #q*S(R_hat.T x z)\n",
    "    first = q[landmark_idx]*function_S(np.matmul(np.transpose(R_hat), np.transpose(z[landmark_idx])))\n",
    "    #Pi_d\n",
    "    #TODO: remember to change the R_0 and p_0 below for gerenal\n",
    "    second = function_Pi(function_d(R_0, p_0, np.transpose(z[landmark_idx])))\n",
    "    #(p_bar_hat - R_hat.T x z)\n",
    "    third = p_bar_hat - np.matmul(np.transpose(R_hat), np.transpose(z[landmark_idx]))\n",
    "    final += np.matmul(first, np.matmul(second, third))\n",
    "\n",
    "# omega_hat second part lower\n",
    "final2 = np.transpose(np.array([[0, 0, 0]], dtype=np.float64))\n",
    "for landmark_idx in range(l):\n",
    "    #q*Pi_d\n",
    "    #TODO: remember to change the R_0 and p_0 below for gerenal\n",
    "    first = q[landmark_idx]*function_Pi(function_d(R_0, p_0, np.transpose(z[landmark_idx])))\n",
    "    #(p_bar_hat - R_hat.T x z)\n",
    "    second = p_bar_hat - np.matmul(np.transpose(R_hat), np.transpose(z[landmark_idx]))\n",
    "    final2 += np.matmul(first, second)\n",
    "second_part = np.vstack((final, final2))\n",
    "#kP[]\n",
    "#full second part \n",
    "second_part = k*np.matmul(P_0, second_part)\n",
    "\n",
    "# Final\n",
    "omega_hat_p_bar_hat_dot = first_part - second_part"
   ]
  },
  {
   "cell_type": "code",
   "execution_count": 346,
   "metadata": {},
   "outputs": [],
   "source": [
    "# observer equation\n",
    "\n",
    "R_hat_dot = np.matmul(R_hat, function_S(omega))"
   ]
  },
  {
   "cell_type": "code",
   "execution_count": 356,
   "metadata": {},
   "outputs": [],
   "source": [
    "# observer equation\n",
    "\n",
    "P_dot = np.matmul(A, P_0) + np.matmul(P_0, np.transpose(A)) - np.matmul(P_0, np.matmul(np.transpose(C), np.matmul(Q, np.matmul(C, P_0)))) + V"
   ]
  },
  {
   "cell_type": "code",
   "execution_count": null,
   "metadata": {},
   "outputs": [],
   "source": []
  }
 ],
 "metadata": {
  "kernelspec": {
   "display_name": "Python 3",
   "language": "python",
   "name": "python3"
  },
  "language_info": {
   "codemirror_mode": {
    "name": "ipython",
    "version": 3
   },
   "file_extension": ".py",
   "mimetype": "text/x-python",
   "name": "python",
   "nbconvert_exporter": "python",
   "pygments_lexer": "ipython3",
   "version": "3.8.10"
  }
 },
 "nbformat": 4,
 "nbformat_minor": 2
}
