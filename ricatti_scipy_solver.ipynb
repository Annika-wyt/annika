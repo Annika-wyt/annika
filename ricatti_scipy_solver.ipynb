{
 "cells": [
  {
   "cell_type": "code",
   "execution_count": 438,
   "metadata": {},
   "outputs": [],
   "source": [
    "import numpy as np\n",
    "from scipy.integrate import solve_ivp"
   ]
  },
  {
   "cell_type": "code",
   "execution_count": 439,
   "metadata": {},
   "outputs": [],
   "source": [
    "def function_S(input):\n",
    "    # input should be array\n",
    "    # output array\n",
    "    flattened_input = input.flatten()\n",
    "    output = [[0,           -flattened_input[2],    flattened_input[1]],\n",
    "              [flattened_input[2],  0,              -flattened_input[0]],\n",
    "              [-flattened_input[1], flattened_input[0],     0]]\n",
    "    return np.array(output)"
   ]
  },
  {
   "cell_type": "code",
   "execution_count": 440,
   "metadata": {},
   "outputs": [],
   "source": [
    "def rodrigues_formula(quaternion):\n",
    "    '''\n",
    "    quaternion -> R_tile_bar\n",
    "    input: [w,x,y,z]\n",
    "    output R_tile_bar (rotation matrix)\n",
    "    '''\n",
    "    return np.eye(3) + 2*np.matmul(function_S(quaternion[1:]), (quaternion[0]*np.eye(3) + function_S(quaternion[1:])))\n"
   ]
  },
  {
   "cell_type": "code",
   "execution_count": 441,
   "metadata": {},
   "outputs": [],
   "source": [
    "l = 3\n",
    "k = 1\n",
    "q = [10, 10, 10]\n",
    "Q = np.diag(np.hstack([np.diag(q[0]*np.eye(3)), np.diag(q[1]*np.eye(3)), np.diag(q[2]*np.eye(3))]))\n",
    "V = np.diag(np.hstack([np.diag(0.1*np.eye(3)), np.diag(np.eye(3))]))\n",
    "P_0 = np.diag(np.hstack([np.diag(np.eye(3)), np.diag(100*np.eye(3))]))\n",
    "#initial state\n",
    "p_0 = np.array([[2.5, 0, 10]]).T\n",
    "R_0 = np.eye(3)\n",
    "\n",
    "#initial estimation\n",
    "p_hat_0 = np.array([[-2, 4, 3]]).T\n",
    "Lambda_bar_0 = np.array([np.sqrt(2)/2, np.sqrt(2)/2, 0, 0]).T  # quaternion: w, x, y, z\n",
    "## R_hat = R x R_tile_bar\n",
    "R_hat_0 = np.matmul(R_0, rodrigues_formula(Lambda_bar_0))\n",
    "\n",
    "# landmarks\n",
    "z = np.array([[[0, 0, 0]], \n",
    "              [[5, 0, 0]],\n",
    "              [[2.5, 2.5, 0]]])"
   ]
  },
  {
   "cell_type": "code",
   "execution_count": 442,
   "metadata": {},
   "outputs": [],
   "source": [
    "def function_A(omega):\n",
    "    A11 = -function_S(omega)\n",
    "    A12 = np.zeros((3,3))\n",
    "    A21 = np.zeros((3,3))\n",
    "    A22 = -function_S(omega)\n",
    "    return np.vstack((np.hstack((A11, A12)), np.hstack((A21, A22))))"
   ]
  },
  {
   "cell_type": "code",
   "execution_count": 443,
   "metadata": {},
   "outputs": [],
   "source": [
    "def function_Pi(input):\n",
    "    '''\n",
    "    Pi_x := I_3 - xx^T\n",
    "    input: array\n",
    "    output P_x\n",
    "    '''\n",
    "    return np.eye(3) - np.matmul(input, np.transpose(input))"
   ]
  },
  {
   "cell_type": "code",
   "execution_count": 444,
   "metadata": {},
   "outputs": [],
   "source": [
    "def function_d(input_rot, input_p, input_z):\n",
    "    '''\n",
    "    calculate d_i(t) := R^T(t)(p(t) - z_i)/|p(t)-z_i|\n",
    "    '''\n",
    "    norm = (input_p - input_z)/np.linalg.norm(input_p - input_z)\n",
    "    return np.matmul(np.transpose(input_rot), norm)"
   ]
  },
  {
   "cell_type": "code",
   "execution_count": 445,
   "metadata": {},
   "outputs": [],
   "source": [
    "def function_C(input_R, input_R_hat, input_p, input_z):\n",
    "    for landmark_idx in range(l):\n",
    "        # S(R_hat.T x z)\n",
    "        #TODO: remember to change the R_0 and p_0 below for gerenal\n",
    "        first = function_Pi(function_d(input_R, input_p, np.transpose(input_z[landmark_idx])))\n",
    "        second = function_S(np.matmul(np.transpose(input_R_hat), np.transpose(input_z[landmark_idx])))\n",
    "        final = -np.matmul(first, second)\n",
    "        C_landmark = np.hstack((final, first))\n",
    "        if landmark_idx == 0:\n",
    "            output_C = C_landmark\n",
    "        else:\n",
    "            output_C = np.vstack((output_C, C_landmark))\n",
    "    return output_C"
   ]
  },
  {
   "cell_type": "code",
   "execution_count": 446,
   "metadata": {},
   "outputs": [],
   "source": [
    "def add_bar(input_rot, input_p):\n",
    "    return np.matmul(np.transpose(input_rot), input_p)"
   ]
  },
  {
   "cell_type": "code",
   "execution_count": 447,
   "metadata": {},
   "outputs": [],
   "source": [
    "def function_K(input_P, input_C, input_Q, input_k):\n",
    "    #TODO: HAVENT CHECK THIS FUNCTION\n",
    "    return input_k* np.matmul(input_P, np.matmul(np.transpose(input_C), input_Q))"
   ]
  },
  {
   "cell_type": "code",
   "execution_count": 448,
   "metadata": {},
   "outputs": [],
   "source": [
    "def remove_bar(input_R, input_p):\n",
    "    return np.matmul(np.transpose(np.linalg.inv(input_R)), input_p)"
   ]
  },
  {
   "cell_type": "code",
   "execution_count": 449,
   "metadata": {},
   "outputs": [],
   "source": [
    "\n",
    "def dynamics(t, y, input_z, input_Q, input_V):\n",
    "    # pose\n",
    "    input_p = np.transpose(np.array([[2.5+2.5*np.cos(0.4*t), 2.5*np.sin(0.4*t), 10]]))\n",
    "    \n",
    "    # velocity\n",
    "    input_v = np.transpose(np.array([[-np.sin(0.4*t), np.cos(0.4*t), 0]]))\n",
    "    # angular velocity\n",
    "    input_omega = np.transpose(np.array([[0.1*np.sin(t), 0.4*np.cos(2*t), 0.6*t]]))\n",
    "    \n",
    "    # (Rot.flatten(), Rot_hat.flatten(), p_bar_hat.flatten(), P_ricatti.flatten())\n",
    "    for_ref_p, Rot_flat, Rot_hat_flat, p_bar_hat_flat, input_P_flat = np.split(y, [3, 12 ,21 ,24])\n",
    "    input_R = Rot_flat.reshape((3,3))\n",
    "    input_p_bar_hat = p_bar_hat_flat.reshape((3,1))\n",
    "    input_R_hat = Rot_hat_flat.reshape((3,3))\n",
    "    input_P = input_P_flat.reshape((6,6))\n",
    "\n",
    "    if t != 0.0:\n",
    "        input_R = np.matmul(input_R, function_S(input_omega))\n",
    "    \n",
    "    input_A = function_A(input_omega)\n",
    "    input_C = function_C(input_R, input_R_hat, input_p, input_z)\n",
    "\n",
    "    # omega_hat , p_bar_hat_dot\n",
    "    # omega\n",
    "    first_upper = input_omega\n",
    "    \n",
    "    # -S(omega)p_bat_hat + v_bar\n",
    "    #TODO: change this for general (R_0)\n",
    "    first_lower = np.matmul(-function_S(input_omega), input_p_bar_hat) + add_bar(input_R, input_v)\n",
    "    first_part = np.vstack((first_upper, first_lower))\n",
    "\n",
    "    # omega_hat second part upper\n",
    "    final = np.transpose(np.array([[0, 0, 0]], dtype=np.float64))\n",
    "    for landmark_idx in range(l):\n",
    "        #q*S(R_hat.T x z)\n",
    "        first = q[landmark_idx]*function_S(np.matmul(np.transpose(input_R_hat), np.transpose(input_z[landmark_idx])))\n",
    "        #Pi_d\n",
    "        #TODO: remember to change the R_0 and p_0 below for gerenal\n",
    "        second = function_Pi(function_d(input_R, input_p, np.transpose(input_z[landmark_idx]))) #TODO\n",
    "        #(p_bar_hat - R_hat.T x z)\n",
    "        third = input_p_bar_hat - np.matmul(np.transpose(input_R_hat), np.transpose(input_z[landmark_idx]))\n",
    "        final += np.matmul(first, np.matmul(second, third))\n",
    "\n",
    "    # omega_hat second part lower\n",
    "    final2 = np.transpose(np.array([[0, 0, 0]], dtype=np.float64))\n",
    "    for landmark_idx in range(l):\n",
    "        #q*Pi_d\n",
    "        #TODO: remember to change the R_0 and p_0 below for gerenal\n",
    "        first = q[landmark_idx]*function_Pi(function_d(input_R, input_p, np.transpose(input_z[landmark_idx]))) #TODO\n",
    "        #(p_bar_hat - R_hat.T x z)\n",
    "        second = input_p_bar_hat - np.matmul(np.transpose(input_R_hat), np.transpose(input_z[landmark_idx]))\n",
    "        final2 += np.matmul(first, second)\n",
    "    second_part = np.vstack((final, final2))\n",
    "    #kP[]\n",
    "    #full second part \n",
    "    second_part = k*np.matmul(input_P, second_part)\n",
    "\n",
    "    # Final\n",
    "    output_omega_hat_p_bar_hat_dot = first_part - second_part\n",
    "\n",
    "    output_omega = output_omega_hat_p_bar_hat_dot[0:3]\n",
    "    output_R_hat_dot = np.matmul(input_R_hat, function_S(output_omega))\n",
    "    output_P_dot = np.matmul(input_A, input_P) + np.matmul(input_P, np.transpose(input_A)) - np.matmul(input_P, np.matmul(np.transpose(input_C), np.matmul(input_Q, np.matmul(input_C, input_P)))) + input_V\n",
    "    \n",
    "    omega_hat = output_omega_hat_p_bar_hat_dot[0:3]\n",
    "    p_bar_hat_dot = output_omega_hat_p_bar_hat_dot[3:]\n",
    "    output_R = np.matmul(input_R, function_S(input_omega))\n",
    "    # R_next_hat = Rot_hat + output_R_hat_dot*(t-last_time)\n",
    "    # p_next_bar_hat = p_hat + p_bar_hat_dot*(t - last_time)\n",
    "    # p_next_hat = remove_bar(R_next_hat, p_next_bar_hat)\n",
    "\n",
    "    # (Rot.flatten(), Rot_hat.flatten(), p_bar_hat.flatten(), P_ricatti.flatten())\n",
    "    return np.concatenate((for_ref_p, output_R.flatten(), output_R_hat_dot.flatten(), p_bar_hat_dot.flatten(), output_P_dot.flatten()))\n"
   ]
  },
  {
   "cell_type": "code",
   "execution_count": 450,
   "metadata": {},
   "outputs": [],
   "source": [
    "from scipy.integrate import solve_ivp\n",
    "\n",
    "##################################\n",
    "##### scipy #####\n",
    "##################################\n",
    "time = (0, 30)\n",
    "t = 0\n",
    "######################################################\n",
    "################# initialization #####################\n",
    "######################################################\n",
    "Rot_hat = R_hat_0 \n",
    "Rot = R_0\n",
    "p_hat = p_hat_0\n",
    "p_bar_hat = add_bar(Rot_hat, p_hat)\n",
    "p = np.transpose(np.array([[2.5+2.5*np.cos(0.4*t), 2.5*np.sin(0.4*t), 10]]))\n",
    "P_ricatti = P_0\n",
    "omega = np.transpose(np.array([[0.1*np.sin(t), 0.4*np.cos(2*t), 0.6*t]]))\n",
    "v = np.transpose(np.array([[-np.sin(0.4*t), np.cos(0.4*t), 0]]))\n",
    "initial_state = np.concatenate((p.flatten(), Rot.flatten(), Rot_hat.flatten(), p_bar_hat.flatten(), P_ricatti.flatten()))\n",
    "#current observer equations\n",
    "sol = solve_ivp(dynamics, time, initial_state, args=(z, Q, V), t_eval=np.linspace(*time, 100))\n"
   ]
  },
  {
   "cell_type": "code",
   "execution_count": 451,
   "metadata": {},
   "outputs": [],
   "source": [
    "seesee = sol.y"
   ]
  },
  {
   "cell_type": "code",
   "execution_count": 452,
   "metadata": {},
   "outputs": [],
   "source": [
    "# Rot_flat, Rot_hat_flat, p_hat_flat, input_P_flat\n",
    "seesee = np.transpose(np.array(seesee))"
   ]
  },
  {
   "cell_type": "code",
   "execution_count": 457,
   "metadata": {},
   "outputs": [],
   "source": [
    "est_p = seesee[:,21:24]"
   ]
  },
  {
   "cell_type": "code",
   "execution_count": 459,
   "metadata": {},
   "outputs": [
    {
     "data": {
      "text/plain": [
       "array([[-2.        ,  3.        , -4.        ],\n",
       "       [ 2.45824869,  0.08238417, -0.99263837],\n",
       "       [ 2.54863248, -0.10972388, -0.80907919],\n",
       "       [ 2.54704739, -0.4760139 , -0.77560855],\n",
       "       [ 2.38657006, -0.96867624, -0.9191585 ],\n",
       "       [ 2.03401033, -1.46257033, -1.12134051],\n",
       "       [ 1.46060637, -1.91053295, -1.24384267],\n",
       "       [ 0.63693362, -2.24554975, -1.25058154],\n",
       "       [-0.34583012, -2.29935283, -1.19924573],\n",
       "       [-1.3190073 , -1.90816606, -1.20898645],\n",
       "       [-1.99537734, -1.01182546, -1.37132438],\n",
       "       [-2.06288834,  0.20419347, -1.62074035],\n",
       "       [-1.39495872,  1.35386868, -1.77991419],\n",
       "       [-0.16294597,  1.93643293, -1.78155719],\n",
       "       [ 1.14165834,  1.5916548 , -1.762942  ],\n",
       "       [ 1.79945799,  0.39610118, -1.88384874],\n",
       "       [ 1.29477568, -0.94955831, -2.08951317],\n",
       "       [-0.11066601, -1.45390629, -2.19506354],\n",
       "       [-1.31260347, -0.63538779, -2.19509245],\n",
       "       [-1.15570853,  0.80549813, -2.22760784],\n",
       "       [ 0.33625672,  1.33123944, -2.24946577],\n",
       "       [ 1.55883928,  0.13519999, -2.12043194],\n",
       "       [ 0.87199983, -1.52681956, -1.96303052],\n",
       "       [-1.09765224, -1.41576719, -1.93246269],\n",
       "       [-1.71083719,  0.640442  , -1.89868631],\n",
       "       [ 0.10892892,  1.84889082, -1.87426095],\n",
       "       [ 1.64639926,  0.28637993, -2.03754181],\n",
       "       [ 0.27038061, -1.49857563, -2.15054196],\n",
       "       [-1.60323149, -0.28662417, -2.07196821],\n",
       "       [-0.30561458,  1.59031502, -2.07921397],\n",
       "       [ 1.67988873,  0.1215667 , -2.0263833 ],\n",
       "       [ 0.05917667, -1.82873955, -1.89623331],\n",
       "       [-1.68490758,  0.09396424, -2.02375932],\n",
       "       [ 0.55271629,  1.51831181, -2.08144689],\n",
       "       [ 1.33727165, -0.95434254, -2.06054975],\n",
       "       [-1.37277226, -0.85750515, -2.07940028],\n",
       "       [-0.34320217,  1.76773458, -1.92368509],\n",
       "       [ 1.68520925, -0.25238193, -2.00989471],\n",
       "       [-1.04625056, -1.19940128, -2.10004876],\n",
       "       [-0.44087488,  1.58908877, -2.05531597],\n",
       "       [ 1.63592548, -0.58590329, -1.98082783],\n",
       "       [-1.3731326 , -1.06416001, -1.98124566],\n",
       "       [ 0.18192981,  1.55257214, -2.12125744],\n",
       "       [ 1.01941115, -1.3734853 , -2.00440129],\n",
       "       [-1.70463872,  0.24045589, -1.99492399],\n",
       "       [ 1.39403756,  0.92253656, -2.03685306],\n",
       "       [-0.68001941, -1.45197184, -2.0910379 ],\n",
       "       [-0.31913537,  1.747294  , -1.94634523],\n",
       "       [ 1.08013605, -1.21154716, -2.07576452],\n",
       "       [-1.54209339,  0.66748839, -2.02958011],\n",
       "       [ 1.6841303 , -0.01451839, -2.02651593],\n",
       "       [-1.5592521 , -0.68933988, -2.00911858],\n",
       "       [ 1.30885575,  0.96013229, -2.07558405],\n",
       "       [-1.01938564, -1.40067434, -1.98541978],\n",
       "       [ 0.73448438,  1.48640314, -2.04801491],\n",
       "       [-0.52234141, -1.56389472, -2.05525855],\n",
       "       [ 0.39994916,  1.6994985 , -1.97355407],\n",
       "       [-0.32622231, -1.55918942, -2.09890412],\n",
       "       [ 0.42086225,  1.69560676, -1.97246471],\n",
       "       [-0.4973223 , -1.56586109, -2.06006438],\n",
       "       [ 0.76484077,  1.48656142, -2.03663206],\n",
       "       [-0.99882573, -1.39475925, -2.00000251],\n",
       "       [ 1.31425493,  0.97008969, -2.06748013],\n",
       "       [-1.5754851 , -0.67117232, -2.00257113],\n",
       "       [ 1.65757536, -0.01617466, -2.04816418],\n",
       "       [-1.56935039,  0.66363456, -2.00989197],\n",
       "       [ 1.05884797, -1.23514896, -2.07268836],\n",
       "       [-0.31524146,  1.71725958, -1.9734461 ],\n",
       "       [-0.66843612, -1.48055517, -2.07460302],\n",
       "       [ 1.43797932,  0.89336267, -2.01914132],\n",
       "       [-1.6594981 ,  0.25519919, -2.03070823],\n",
       "       [ 1.04956619, -1.34600412, -2.00734842],\n",
       "       [ 0.20756233,  1.60587879, -2.07867522],\n",
       "       [-1.39279641, -0.99576558, -2.00283819],\n",
       "       [ 1.59369123, -0.56182413, -2.02171509],\n",
       "       [-0.47940268,  1.6025718 , -2.03583146],\n",
       "       [-1.11107628, -1.22289844, -2.05252633],\n",
       "       [ 1.64396215, -0.33139394, -2.03232784],\n",
       "       [-0.33305706,  1.6984326 , -1.98675015],\n",
       "       [-1.37054745, -0.89880675, -2.06312669],\n",
       "       [ 1.36046021, -0.99630671, -2.02464158],\n",
       "       [ 0.61682829,  1.54365799, -2.04438189],\n",
       "       [-1.65250159,  0.19589944, -2.04294386],\n",
       "       [ 0.03232398, -1.73269704, -1.98480521],\n",
       "       [ 1.65522214,  0.17341855, -2.04277815],\n",
       "       [-0.32499715,  1.63142975, -2.0433933 ],\n",
       "       [-1.66536809, -0.29876222, -2.01990274],\n",
       "       [ 0.20726333, -1.62233525, -2.06587861],\n",
       "       [ 1.66442635,  0.09131074, -2.04060486],\n",
       "       [ 0.22778164,  1.70501415, -1.99594321],\n",
       "       [-1.57473542,  0.61405289, -2.02136104],\n",
       "       [-0.99716552, -1.35910336, -2.02514104],\n",
       "       [ 0.95611968, -1.4123561 , -2.00842786],\n",
       "       [ 1.63683634,  0.32143963, -2.03964633],\n",
       "       [ 0.36455189,  1.59428304, -2.06593142],\n",
       "       [-1.26718019,  1.0746618 , -2.04501082],\n",
       "       [-1.59621664, -0.50432204, -2.03481191],\n",
       "       [-0.48513311, -1.57501991, -2.0558814 ],\n",
       "       [ 0.97539923, -1.32792018, -2.05619058],\n",
       "       [ 1.68190526, -0.12917514, -2.02415812]])"
      ]
     },
     "execution_count": 459,
     "metadata": {},
     "output_type": "execute_result"
    }
   ],
   "source": [
    "est_p"
   ]
  }
 ],
 "metadata": {
  "kernelspec": {
   "display_name": "Python 3",
   "language": "python",
   "name": "python3"
  },
  "language_info": {
   "codemirror_mode": {
    "name": "ipython",
    "version": 3
   },
   "file_extension": ".py",
   "mimetype": "text/x-python",
   "name": "python",
   "nbconvert_exporter": "python",
   "pygments_lexer": "ipython3",
   "version": "3.8.10"
  }
 },
 "nbformat": 4,
 "nbformat_minor": 2
}
