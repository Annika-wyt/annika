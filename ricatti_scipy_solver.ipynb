{
 "cells": [
  {
   "cell_type": "code",
   "execution_count": 622,
   "metadata": {},
   "outputs": [],
   "source": [
    "import numpy as np\n",
    "from scipy.integrate import solve_ivp"
   ]
  },
  {
   "cell_type": "code",
   "execution_count": 623,
   "metadata": {},
   "outputs": [],
   "source": [
    "def function_S(input):\n",
    "    # input should be array\n",
    "    # output array\n",
    "    flattened_input = input.flatten()\n",
    "    output = [[0,           -flattened_input[2],    flattened_input[1]],\n",
    "              [flattened_input[2],  0,              -flattened_input[0]],\n",
    "              [-flattened_input[1], flattened_input[0],     0]]\n",
    "    return np.array(output)"
   ]
  },
  {
   "cell_type": "code",
   "execution_count": 624,
   "metadata": {},
   "outputs": [],
   "source": [
    "def rodrigues_formula(quaternion):\n",
    "    '''\n",
    "    quaternion -> R_tile_bar\n",
    "    input: [w,x,y,z]\n",
    "    output R_tile_bar (rotation matrix)\n",
    "    '''\n",
    "    return np.eye(3) + 2*np.matmul(function_S(quaternion[1:]), (quaternion[0]*np.eye(3) + function_S(quaternion[1:])))\n"
   ]
  },
  {
   "cell_type": "code",
   "execution_count": 625,
   "metadata": {},
   "outputs": [],
   "source": [
    "l = 3\n",
    "k = 1\n",
    "q = [10, 10, 10]\n",
    "Q = np.diag(np.hstack([np.diag(q[0]*np.eye(3)), np.diag(q[1]*np.eye(3)), np.diag(q[2]*np.eye(3))]))\n",
    "V = np.diag(np.hstack([np.diag(0.1*np.eye(3)), np.diag(np.eye(3))]))\n",
    "P_0 = np.diag(np.hstack([np.diag(np.eye(3)), np.diag(100*np.eye(3))]))\n",
    "#initial state\n",
    "p_0 = np.array([[2.5, 0, 10]]).T\n",
    "R_0 = np.eye(3)\n",
    "\n",
    "#initial estimation\n",
    "p_hat_0 = np.array([[-2, 4, 3]]).T\n",
    "Lambda_bar_0 = np.array([np.sqrt(2)/2, np.sqrt(2)/2, 0, 0]).T  # quaternion: w, x, y, z\n",
    "## R_hat = R x R_tile_bar\n",
    "R_hat_0 = np.matmul(R_0, rodrigues_formula(Lambda_bar_0))\n",
    "\n",
    "# landmarks\n",
    "z = np.array([[[0, 0, 0]], \n",
    "              [[5, 0, 0]],\n",
    "              [[2.5, 2.5, 0]]])"
   ]
  },
  {
   "cell_type": "code",
   "execution_count": 626,
   "metadata": {},
   "outputs": [],
   "source": [
    "def function_A(omega):\n",
    "    A11 = function_S(-omega)\n",
    "    A12 = np.zeros((3,3))\n",
    "    A21 = np.zeros((3,3))\n",
    "    A22 = function_S(-omega)\n",
    "    return np.vstack((np.hstack((A11, A12)), np.hstack((A21, A22))))\n"
   ]
  },
  {
   "cell_type": "code",
   "execution_count": 627,
   "metadata": {},
   "outputs": [],
   "source": [
    "def function_Pi(input):\n",
    "    '''\n",
    "    Pi_x := I_3 - xx^T\n",
    "    input: array\n",
    "    output P_x\n",
    "    '''\n",
    "    return np.eye(3) - np.matmul(input, np.transpose(input))"
   ]
  },
  {
   "cell_type": "code",
   "execution_count": 628,
   "metadata": {},
   "outputs": [],
   "source": [
    "def function_d(input_rot, input_p, input_z):\n",
    "    '''\n",
    "    calculate d_i(t) := R^T(t)(p(t) - z_i)/|p(t)-z_i|\n",
    "    '''\n",
    "    norm = (input_p - input_z)/np.linalg.norm(input_p - input_z)\n",
    "    return np.matmul(np.transpose(input_rot), norm)"
   ]
  },
  {
   "cell_type": "code",
   "execution_count": 629,
   "metadata": {},
   "outputs": [],
   "source": [
    "def function_C(input_R, input_R_hat, input_p, input_z):\n",
    "    for landmark_idx in range(l):\n",
    "        # S(R_hat.T x z)\n",
    "        #TODO: remember to change the R_0 and p_0 below for gerenal\n",
    "        first = function_Pi(function_d(input_R, input_p, np.transpose(input_z[landmark_idx])))\n",
    "        second = function_S(np.matmul(np.transpose(input_R_hat), np.transpose(input_z[landmark_idx])))\n",
    "        final = -np.matmul(first, second)\n",
    "        C_landmark = np.hstack((final, first))\n",
    "        if landmark_idx == 0:\n",
    "            output_C = C_landmark\n",
    "        else:\n",
    "            output_C = np.vstack((output_C, C_landmark))\n",
    "    return output_C"
   ]
  },
  {
   "cell_type": "code",
   "execution_count": 630,
   "metadata": {},
   "outputs": [],
   "source": [
    "def add_bar(input_rot, input_p):\n",
    "    return np.matmul(np.transpose(input_rot), input_p)"
   ]
  },
  {
   "cell_type": "code",
   "execution_count": 631,
   "metadata": {},
   "outputs": [],
   "source": [
    "def function_K(input_P, input_C, input_Q, input_k):\n",
    "    #TODO: HAVENT CHECK THIS FUNCTION\n",
    "    return input_k* np.matmul(input_P, np.matmul(np.transpose(input_C), input_Q))"
   ]
  },
  {
   "cell_type": "code",
   "execution_count": 632,
   "metadata": {},
   "outputs": [],
   "source": [
    "def remove_bar(input_R, input_p):\n",
    "    return np.matmul(np.transpose(np.linalg.inv(input_R)), input_p)"
   ]
  },
  {
   "cell_type": "code",
   "execution_count": 633,
   "metadata": {},
   "outputs": [],
   "source": [
    "\n",
    "def dynamics(t, y, input_k, input_z, input_Q, input_V):\n",
    "    # pose\n",
    "    input_p = np.transpose(np.array([[2.5+2.5*np.cos(0.4*t), 2.5*np.sin(0.4*t), 10]]))\n",
    "    \n",
    "    # velocity\n",
    "    input_v = np.transpose(np.array([[-np.sin(0.4*t), np.cos(0.4*t), 0]]))\n",
    "    # angular velocity\n",
    "    input_omega = np.transpose(np.array([[0.1*np.sin(t), 0.4*np.cos(2*t), 0.6*t]]))\n",
    "    \n",
    "    # (Rot.flatten(), Rot_hat.flatten(), p_bar_hat.flatten(), P_ricatti.flatten())\n",
    "    Rot_flat, Rot_hat_flat, p_bar_hat_flat, input_P_flat = np.split(y, [9, 18, 21])\n",
    "    input_R = Rot_flat.reshape((3,3))\n",
    "    input_p_bar_hat = p_bar_hat_flat.reshape((3,1))\n",
    "    input_R_hat = Rot_hat_flat.reshape((3,3))\n",
    "    input_P = input_P_flat.reshape((6,6))\n",
    "\n",
    "    # input_R = np.matmul(input_R, function_S(input_omega))\n",
    "    \n",
    "    input_A = function_A(input_omega)\n",
    "    input_C = function_C(input_R, input_R_hat, input_p, input_z)\n",
    "\n",
    "    # omega_hat , p_bar_hat_dot\n",
    "    # omega\n",
    "    first_upper = input_omega\n",
    "    \n",
    "    # -S(omega)p_bat_hat + v_bar\n",
    "    #TODO: change this for general (R_0)\n",
    "    first_lower = np.matmul(-function_S(input_omega), input_p_bar_hat) + add_bar(input_R, input_v)\n",
    "    first_part = np.vstack((first_upper, first_lower))\n",
    "\n",
    "    # omega_hat second part upper\n",
    "    final = np.transpose(np.array([[0, 0, 0]], dtype=np.float64))\n",
    "    for landmark_idx in range(l):\n",
    "        #q*S(R_hat.T x z)\n",
    "        first = q[landmark_idx]*function_S(np.matmul(np.transpose(input_R_hat), np.transpose(input_z[landmark_idx])))\n",
    "        #Pi_d\n",
    "        #TODO: remember to change the R_0 and p_0 below for gerenal\n",
    "        second = function_Pi(function_d(input_R, input_p, np.transpose(input_z[landmark_idx]))) #TODO\n",
    "        #(p_bar_hat - R_hat.T x z)\n",
    "        third = input_p_bar_hat - np.matmul(np.transpose(input_R_hat), np.transpose(input_z[landmark_idx]))\n",
    "        final += np.matmul(first, np.matmul(second, third))\n",
    "\n",
    "    # omega_hat second part lower\n",
    "    final2 = np.transpose(np.array([[0, 0, 0]], dtype=np.float64))\n",
    "    for landmark_idx in range(l):\n",
    "        #q*Pi_d\n",
    "        #TODO: remember to change the R_0 and p_0 below for gerenal\n",
    "        first = q[landmark_idx]*function_Pi(function_d(input_R, input_p, np.transpose(input_z[landmark_idx]))) #TODO\n",
    "        #(p_bar_hat - R_hat.T x z)\n",
    "        second = input_p_bar_hat - np.matmul(np.transpose(input_R_hat), np.transpose(input_z[landmark_idx]))\n",
    "        final2 += np.matmul(first, second)\n",
    "    second_part = np.vstack((final, final2))\n",
    "    #kP[]\n",
    "    #full second part \n",
    "    second_part = input_k*np.matmul(input_P, second_part)\n",
    "\n",
    "    # Final\n",
    "    output_omega_hat_p_bar_hat_dot = first_part - second_part\n",
    "\n",
    "    output_P_dot = np.matmul(input_A, input_P) + np.matmul(input_P, np.transpose(input_A)) - np.matmul(input_P, np.matmul(np.transpose(input_C), np.matmul(input_Q, np.matmul(input_C, input_P)))) + input_V\n",
    "    \n",
    "    omega_hat = output_omega_hat_p_bar_hat_dot[0:3]\n",
    "    output_R_hat_dot = np.matmul(input_R_hat, function_S(omega_hat))\n",
    "    p_bar_hat_dot = output_omega_hat_p_bar_hat_dot[3:]\n",
    "    output_R = np.matmul(np.eye(3), function_S(input_omega))\n",
    "\n",
    "    # (Rot.flatten(), Rot_hat.flatten(), p_bar_hat.flatten(), P_ricatti.flatten())\n",
    "    return np.concatenate((output_R.flatten(), output_R_hat_dot.flatten(), p_bar_hat_dot.flatten(), output_P_dot.flatten()))\n"
   ]
  },
  {
   "cell_type": "code",
   "execution_count": 642,
   "metadata": {},
   "outputs": [
    {
     "ename": "KeyboardInterrupt",
     "evalue": "",
     "output_type": "error",
     "traceback": [
      "\u001b[0;31m---------------------------------------------------------------------------\u001b[0m",
      "\u001b[0;31mKeyboardInterrupt\u001b[0m                         Traceback (most recent call last)",
      "Cell \u001b[0;32mIn[642], line 20\u001b[0m\n\u001b[1;32m     18\u001b[0m initial_state \u001b[38;5;241m=\u001b[39m np\u001b[38;5;241m.\u001b[39mconcatenate((Rot\u001b[38;5;241m.\u001b[39mflatten(), Rot_hat\u001b[38;5;241m.\u001b[39mflatten(), p_bar_hat\u001b[38;5;241m.\u001b[39mflatten(), P_ricatti\u001b[38;5;241m.\u001b[39mflatten()))\n\u001b[1;32m     19\u001b[0m \u001b[38;5;66;03m#current observer equations\u001b[39;00m\n\u001b[0;32m---> 20\u001b[0m sol \u001b[38;5;241m=\u001b[39m \u001b[43msolve_ivp\u001b[49m\u001b[43m(\u001b[49m\u001b[43mdynamics\u001b[49m\u001b[43m,\u001b[49m\u001b[43m \u001b[49m\u001b[43mtime\u001b[49m\u001b[43m,\u001b[49m\u001b[43m \u001b[49m\u001b[43minitial_state\u001b[49m\u001b[43m,\u001b[49m\u001b[43m \u001b[49m\u001b[43margs\u001b[49m\u001b[38;5;241;43m=\u001b[39;49m\u001b[43m(\u001b[49m\u001b[43mk\u001b[49m\u001b[43m,\u001b[49m\u001b[43m \u001b[49m\u001b[43mz\u001b[49m\u001b[43m,\u001b[49m\u001b[43m \u001b[49m\u001b[43mQ\u001b[49m\u001b[43m,\u001b[49m\u001b[43m \u001b[49m\u001b[43mV\u001b[49m\u001b[43m)\u001b[49m\u001b[43m,\u001b[49m\u001b[43m \u001b[49m\u001b[43mt_eval\u001b[49m\u001b[38;5;241;43m=\u001b[39;49m\u001b[43mnp\u001b[49m\u001b[38;5;241;43m.\u001b[39;49m\u001b[43mlinspace\u001b[49m\u001b[43m(\u001b[49m\u001b[38;5;241;43m*\u001b[39;49m\u001b[43mtime\u001b[49m\u001b[43m,\u001b[49m\u001b[43m \u001b[49m\u001b[38;5;241;43m20\u001b[39;49m\u001b[43m)\u001b[49m\u001b[43m,\u001b[49m\u001b[43m \u001b[49m\u001b[43mrtol\u001b[49m\u001b[38;5;241;43m=\u001b[39;49m\u001b[38;5;241;43m1e-2\u001b[39;49m\u001b[43m,\u001b[49m\u001b[43m \u001b[49m\u001b[43matol\u001b[49m\u001b[38;5;241;43m=\u001b[39;49m\u001b[38;5;241;43m1e-3\u001b[39;49m\u001b[43m)\u001b[49m\n",
      "File \u001b[0;32m~/.local/lib/python3.8/site-packages/scipy/integrate/_ivp/ivp.py:576\u001b[0m, in \u001b[0;36msolve_ivp\u001b[0;34m(fun, t_span, y0, method, t_eval, dense_output, events, vectorized, args, **options)\u001b[0m\n\u001b[1;32m    574\u001b[0m status \u001b[38;5;241m=\u001b[39m \u001b[38;5;28;01mNone\u001b[39;00m\n\u001b[1;32m    575\u001b[0m \u001b[38;5;28;01mwhile\u001b[39;00m status \u001b[38;5;129;01mis\u001b[39;00m \u001b[38;5;28;01mNone\u001b[39;00m:\n\u001b[0;32m--> 576\u001b[0m     message \u001b[38;5;241m=\u001b[39m \u001b[43msolver\u001b[49m\u001b[38;5;241;43m.\u001b[39;49m\u001b[43mstep\u001b[49m\u001b[43m(\u001b[49m\u001b[43m)\u001b[49m\n\u001b[1;32m    578\u001b[0m     \u001b[38;5;28;01mif\u001b[39;00m solver\u001b[38;5;241m.\u001b[39mstatus \u001b[38;5;241m==\u001b[39m \u001b[38;5;124m'\u001b[39m\u001b[38;5;124mfinished\u001b[39m\u001b[38;5;124m'\u001b[39m:\n\u001b[1;32m    579\u001b[0m         status \u001b[38;5;241m=\u001b[39m \u001b[38;5;241m0\u001b[39m\n",
      "File \u001b[0;32m~/.local/lib/python3.8/site-packages/scipy/integrate/_ivp/base.py:181\u001b[0m, in \u001b[0;36mOdeSolver.step\u001b[0;34m(self)\u001b[0m\n\u001b[1;32m    179\u001b[0m \u001b[38;5;28;01melse\u001b[39;00m:\n\u001b[1;32m    180\u001b[0m     t \u001b[38;5;241m=\u001b[39m \u001b[38;5;28mself\u001b[39m\u001b[38;5;241m.\u001b[39mt\n\u001b[0;32m--> 181\u001b[0m     success, message \u001b[38;5;241m=\u001b[39m \u001b[38;5;28;43mself\u001b[39;49m\u001b[38;5;241;43m.\u001b[39;49m\u001b[43m_step_impl\u001b[49m\u001b[43m(\u001b[49m\u001b[43m)\u001b[49m\n\u001b[1;32m    183\u001b[0m     \u001b[38;5;28;01mif\u001b[39;00m \u001b[38;5;129;01mnot\u001b[39;00m success:\n\u001b[1;32m    184\u001b[0m         \u001b[38;5;28mself\u001b[39m\u001b[38;5;241m.\u001b[39mstatus \u001b[38;5;241m=\u001b[39m \u001b[38;5;124m'\u001b[39m\u001b[38;5;124mfailed\u001b[39m\u001b[38;5;124m'\u001b[39m\n",
      "File \u001b[0;32m~/.local/lib/python3.8/site-packages/scipy/integrate/_ivp/rk.py:144\u001b[0m, in \u001b[0;36mRungeKutta._step_impl\u001b[0;34m(self)\u001b[0m\n\u001b[1;32m    141\u001b[0m h \u001b[38;5;241m=\u001b[39m t_new \u001b[38;5;241m-\u001b[39m t\n\u001b[1;32m    142\u001b[0m h_abs \u001b[38;5;241m=\u001b[39m np\u001b[38;5;241m.\u001b[39mabs(h)\n\u001b[0;32m--> 144\u001b[0m y_new, f_new \u001b[38;5;241m=\u001b[39m \u001b[43mrk_step\u001b[49m\u001b[43m(\u001b[49m\u001b[38;5;28;43mself\u001b[39;49m\u001b[38;5;241;43m.\u001b[39;49m\u001b[43mfun\u001b[49m\u001b[43m,\u001b[49m\u001b[43m \u001b[49m\u001b[43mt\u001b[49m\u001b[43m,\u001b[49m\u001b[43m \u001b[49m\u001b[43my\u001b[49m\u001b[43m,\u001b[49m\u001b[43m \u001b[49m\u001b[38;5;28;43mself\u001b[39;49m\u001b[38;5;241;43m.\u001b[39;49m\u001b[43mf\u001b[49m\u001b[43m,\u001b[49m\u001b[43m \u001b[49m\u001b[43mh\u001b[49m\u001b[43m,\u001b[49m\u001b[43m \u001b[49m\u001b[38;5;28;43mself\u001b[39;49m\u001b[38;5;241;43m.\u001b[39;49m\u001b[43mA\u001b[49m\u001b[43m,\u001b[49m\n\u001b[1;32m    145\u001b[0m \u001b[43m                       \u001b[49m\u001b[38;5;28;43mself\u001b[39;49m\u001b[38;5;241;43m.\u001b[39;49m\u001b[43mB\u001b[49m\u001b[43m,\u001b[49m\u001b[43m \u001b[49m\u001b[38;5;28;43mself\u001b[39;49m\u001b[38;5;241;43m.\u001b[39;49m\u001b[43mC\u001b[49m\u001b[43m,\u001b[49m\u001b[43m \u001b[49m\u001b[38;5;28;43mself\u001b[39;49m\u001b[38;5;241;43m.\u001b[39;49m\u001b[43mK\u001b[49m\u001b[43m)\u001b[49m\n\u001b[1;32m    146\u001b[0m scale \u001b[38;5;241m=\u001b[39m atol \u001b[38;5;241m+\u001b[39m np\u001b[38;5;241m.\u001b[39mmaximum(np\u001b[38;5;241m.\u001b[39mabs(y), np\u001b[38;5;241m.\u001b[39mabs(y_new)) \u001b[38;5;241m*\u001b[39m rtol\n\u001b[1;32m    147\u001b[0m error_norm \u001b[38;5;241m=\u001b[39m \u001b[38;5;28mself\u001b[39m\u001b[38;5;241m.\u001b[39m_estimate_error_norm(\u001b[38;5;28mself\u001b[39m\u001b[38;5;241m.\u001b[39mK, h, scale)\n",
      "File \u001b[0;32m~/.local/lib/python3.8/site-packages/scipy/integrate/_ivp/rk.py:64\u001b[0m, in \u001b[0;36mrk_step\u001b[0;34m(fun, t, y, f, h, A, B, C, K)\u001b[0m\n\u001b[1;32m     62\u001b[0m \u001b[38;5;28;01mfor\u001b[39;00m s, (a, c) \u001b[38;5;129;01min\u001b[39;00m \u001b[38;5;28menumerate\u001b[39m(\u001b[38;5;28mzip\u001b[39m(A[\u001b[38;5;241m1\u001b[39m:], C[\u001b[38;5;241m1\u001b[39m:]), start\u001b[38;5;241m=\u001b[39m\u001b[38;5;241m1\u001b[39m):\n\u001b[1;32m     63\u001b[0m     dy \u001b[38;5;241m=\u001b[39m np\u001b[38;5;241m.\u001b[39mdot(K[:s]\u001b[38;5;241m.\u001b[39mT, a[:s]) \u001b[38;5;241m*\u001b[39m h\n\u001b[0;32m---> 64\u001b[0m     K[s] \u001b[38;5;241m=\u001b[39m \u001b[43mfun\u001b[49m\u001b[43m(\u001b[49m\u001b[43mt\u001b[49m\u001b[43m \u001b[49m\u001b[38;5;241;43m+\u001b[39;49m\u001b[43m \u001b[49m\u001b[43mc\u001b[49m\u001b[43m \u001b[49m\u001b[38;5;241;43m*\u001b[39;49m\u001b[43m \u001b[49m\u001b[43mh\u001b[49m\u001b[43m,\u001b[49m\u001b[43m \u001b[49m\u001b[43my\u001b[49m\u001b[43m \u001b[49m\u001b[38;5;241;43m+\u001b[39;49m\u001b[43m \u001b[49m\u001b[43mdy\u001b[49m\u001b[43m)\u001b[49m\n\u001b[1;32m     66\u001b[0m y_new \u001b[38;5;241m=\u001b[39m y \u001b[38;5;241m+\u001b[39m h \u001b[38;5;241m*\u001b[39m np\u001b[38;5;241m.\u001b[39mdot(K[:\u001b[38;5;241m-\u001b[39m\u001b[38;5;241m1\u001b[39m]\u001b[38;5;241m.\u001b[39mT, B)\n\u001b[1;32m     67\u001b[0m f_new \u001b[38;5;241m=\u001b[39m fun(t \u001b[38;5;241m+\u001b[39m h, y_new)\n",
      "File \u001b[0;32m~/.local/lib/python3.8/site-packages/scipy/integrate/_ivp/base.py:138\u001b[0m, in \u001b[0;36mOdeSolver.__init__.<locals>.fun\u001b[0;34m(t, y)\u001b[0m\n\u001b[1;32m    136\u001b[0m \u001b[38;5;28;01mdef\u001b[39;00m \u001b[38;5;21mfun\u001b[39m(t, y):\n\u001b[1;32m    137\u001b[0m     \u001b[38;5;28mself\u001b[39m\u001b[38;5;241m.\u001b[39mnfev \u001b[38;5;241m+\u001b[39m\u001b[38;5;241m=\u001b[39m \u001b[38;5;241m1\u001b[39m\n\u001b[0;32m--> 138\u001b[0m     \u001b[38;5;28;01mreturn\u001b[39;00m \u001b[38;5;28;43mself\u001b[39;49m\u001b[38;5;241;43m.\u001b[39;49m\u001b[43mfun_single\u001b[49m\u001b[43m(\u001b[49m\u001b[43mt\u001b[49m\u001b[43m,\u001b[49m\u001b[43m \u001b[49m\u001b[43my\u001b[49m\u001b[43m)\u001b[49m\n",
      "File \u001b[0;32m~/.local/lib/python3.8/site-packages/scipy/integrate/_ivp/base.py:20\u001b[0m, in \u001b[0;36mcheck_arguments.<locals>.fun_wrapped\u001b[0;34m(t, y)\u001b[0m\n\u001b[1;32m     19\u001b[0m \u001b[38;5;28;01mdef\u001b[39;00m \u001b[38;5;21mfun_wrapped\u001b[39m(t, y):\n\u001b[0;32m---> 20\u001b[0m     \u001b[38;5;28;01mreturn\u001b[39;00m np\u001b[38;5;241m.\u001b[39masarray(\u001b[43mfun\u001b[49m\u001b[43m(\u001b[49m\u001b[43mt\u001b[49m\u001b[43m,\u001b[49m\u001b[43m \u001b[49m\u001b[43my\u001b[49m\u001b[43m)\u001b[49m, dtype\u001b[38;5;241m=\u001b[39mdtype)\n",
      "File \u001b[0;32m~/.local/lib/python3.8/site-packages/scipy/integrate/_ivp/ivp.py:514\u001b[0m, in \u001b[0;36msolve_ivp.<locals>.<lambda>\u001b[0;34m(t, x, fun)\u001b[0m\n\u001b[1;32m    508\u001b[0m t0, tf \u001b[38;5;241m=\u001b[39m \u001b[38;5;28mfloat\u001b[39m(t_span[\u001b[38;5;241m0\u001b[39m]), \u001b[38;5;28mfloat\u001b[39m(t_span[\u001b[38;5;241m1\u001b[39m])\n\u001b[1;32m    510\u001b[0m \u001b[38;5;28;01mif\u001b[39;00m args \u001b[38;5;129;01mis\u001b[39;00m \u001b[38;5;129;01mnot\u001b[39;00m \u001b[38;5;28;01mNone\u001b[39;00m:\n\u001b[1;32m    511\u001b[0m     \u001b[38;5;66;03m# Wrap the user's fun (and jac, if given) in lambdas to hide the\u001b[39;00m\n\u001b[1;32m    512\u001b[0m     \u001b[38;5;66;03m# additional parameters.  Pass in the original fun as a keyword\u001b[39;00m\n\u001b[1;32m    513\u001b[0m     \u001b[38;5;66;03m# argument to keep it in the scope of the lambda.\u001b[39;00m\n\u001b[0;32m--> 514\u001b[0m     fun \u001b[38;5;241m=\u001b[39m \u001b[38;5;28;01mlambda\u001b[39;00m t, x, fun\u001b[38;5;241m=\u001b[39mfun: \u001b[43mfun\u001b[49m\u001b[43m(\u001b[49m\u001b[43mt\u001b[49m\u001b[43m,\u001b[49m\u001b[43m \u001b[49m\u001b[43mx\u001b[49m\u001b[43m,\u001b[49m\u001b[43m \u001b[49m\u001b[38;5;241;43m*\u001b[39;49m\u001b[43margs\u001b[49m\u001b[43m)\u001b[49m\n\u001b[1;32m    515\u001b[0m     jac \u001b[38;5;241m=\u001b[39m options\u001b[38;5;241m.\u001b[39mget(\u001b[38;5;124m'\u001b[39m\u001b[38;5;124mjac\u001b[39m\u001b[38;5;124m'\u001b[39m)\n\u001b[1;32m    516\u001b[0m     \u001b[38;5;28;01mif\u001b[39;00m \u001b[38;5;28mcallable\u001b[39m(jac):\n",
      "Cell \u001b[0;32mIn[633], line 40\u001b[0m, in \u001b[0;36mdynamics\u001b[0;34m(t, y, input_k, input_z, input_Q, input_V)\u001b[0m\n\u001b[1;32m     38\u001b[0m     second \u001b[38;5;241m=\u001b[39m function_Pi(function_d(input_R, input_p, np\u001b[38;5;241m.\u001b[39mtranspose(input_z[landmark_idx]))) \u001b[38;5;66;03m#TODO\u001b[39;00m\n\u001b[1;32m     39\u001b[0m     \u001b[38;5;66;03m#(p_bar_hat - R_hat.T x z)\u001b[39;00m\n\u001b[0;32m---> 40\u001b[0m     third \u001b[38;5;241m=\u001b[39m \u001b[43minput_p_bar_hat\u001b[49m\u001b[43m \u001b[49m\u001b[38;5;241;43m-\u001b[39;49m\u001b[43m \u001b[49m\u001b[43mnp\u001b[49m\u001b[38;5;241;43m.\u001b[39;49m\u001b[43mmatmul\u001b[49m\u001b[43m(\u001b[49m\u001b[43mnp\u001b[49m\u001b[38;5;241;43m.\u001b[39;49m\u001b[43mtranspose\u001b[49m\u001b[43m(\u001b[49m\u001b[43minput_R_hat\u001b[49m\u001b[43m)\u001b[49m\u001b[43m,\u001b[49m\u001b[43m \u001b[49m\u001b[43mnp\u001b[49m\u001b[38;5;241;43m.\u001b[39;49m\u001b[43mtranspose\u001b[49m\u001b[43m(\u001b[49m\u001b[43minput_z\u001b[49m\u001b[43m[\u001b[49m\u001b[43mlandmark_idx\u001b[49m\u001b[43m]\u001b[49m\u001b[43m)\u001b[49m\u001b[43m)\u001b[49m\n\u001b[1;32m     41\u001b[0m     final \u001b[38;5;241m+\u001b[39m\u001b[38;5;241m=\u001b[39m np\u001b[38;5;241m.\u001b[39mmatmul(first, np\u001b[38;5;241m.\u001b[39mmatmul(second, third))\n\u001b[1;32m     43\u001b[0m \u001b[38;5;66;03m# omega_hat second part lower\u001b[39;00m\n",
      "\u001b[0;31mKeyboardInterrupt\u001b[0m: "
     ]
    }
   ],
   "source": [
    "from scipy.integrate import solve_ivp\n",
    "\n",
    "##################################\n",
    "##### scipy #####\n",
    "##################################\n",
    "time = (0, 10)\n",
    "t = 0\n",
    "######################################################\n",
    "################# initialization #####################\n",
    "######################################################\n",
    "Rot_hat = R_hat_0 \n",
    "Rot = R_0\n",
    "p_hat = p_hat_0\n",
    "p_bar_hat = add_bar(Rot_hat, p_hat)\n",
    "p = np.transpose(np.array([[2.5+2.5*np.cos(0.4*t), 2.5*np.sin(0.4*t), 10]]))\n",
    "omega = np.transpose(np.array([[0.1*np.sin(t), 0.4*np.cos(2*t), 0.6*t]]))\n",
    "P_ricatti = P_0\n",
    "initial_state = np.concatenate((Rot.flatten(), Rot_hat.flatten(), p_bar_hat.flatten(), P_ricatti.flatten()))\n",
    "#current observer equations\n",
    "sol = solve_ivp(dynamics, time, initial_state, args=(k, z, Q, V), t_eval=np.linspace(*time, 20), rtol=1e-2, atol=1e-3)\n"
   ]
  },
  {
   "cell_type": "code",
   "execution_count": null,
   "metadata": {},
   "outputs": [
    {
     "data": {
      "text/plain": [
       "array([[-2.        ,  3.        , -4.        ],\n",
       "       [ 4.20471097, -0.02367467,  8.34559355],\n",
       "       [ 3.93761967,  0.05720686,  9.5937879 ],\n",
       "       [ 3.63197715,  0.11336876, 10.68670431],\n",
       "       [ 3.41794684,  0.15803261, 12.10155609],\n",
       "       [ 3.26048805,  0.17663782, 13.78193571],\n",
       "       [ 3.13119918,  0.16889517, 15.48903277],\n",
       "       [ 3.09276162,  0.14804889, 17.11281648],\n",
       "       [ 3.20428681,  0.11761219, 18.50675547],\n",
       "       [ 3.49364929,  0.07107664, 19.45902648]])"
      ]
     },
     "execution_count": 635,
     "metadata": {},
     "output_type": "execute_result"
    }
   ],
   "source": [
    "seesee = sol.y\n",
    "# Rot_flat, Rot_hat_flat, p_hat_flat, input_P_flat\n",
    "seesee = np.transpose(np.array(seesee))\n",
    "est_p = seesee[:,18:21]\n",
    "est_p"
   ]
  },
  {
   "cell_type": "code",
   "execution_count": null,
   "metadata": {},
   "outputs": [],
   "source": [
    "from copy import deepcopy\n",
    "p_bar_print = []\n",
    "R_curr = np.eye(3)\n",
    "for idx, t in enumerate(sol.t):\n",
    "    p = np.array([2.5+2.5*np.cos(0.4*t), 2.5*np.sin(0.4*t), 10])\n",
    "    omega = np.array([0.1*np.sin(t), 0.4*np.cos(2*t), 0.6*t])\n",
    "    R_new = np.dot(R_curr, function_S(omega))\n",
    "    # R_curr = deepcopy(R_new)\n",
    "    p_bar_temp = np.matmul(np.transpose(R_new), p)\n",
    "    p_bar_print.append(p)\n",
    "\n",
    "import matplotlib.pyplot as plt\n",
    "figure = plt.subplot()\n",
    "\n",
    "plt.plot(sol.t, p_bar_print, label=[\"x\", \"y\", \"z\"])\n",
    "plt.xlim(0,40)\n",
    "plt.legend()\n",
    "plt.show()\n",
    "\n",
    "plt.plot(sol.t, est_p, label=[\"est_x\", \"est_y\", \"est_z\"])\n",
    "plt.xlim(0,40)\n",
    "plt.legend()\n",
    "plt.show()\n",
    "\n",
    "plt.plot(sol.t, p_bar_print-est_p, label=[\"diff_x\", \"diff_y\", \"diff_z\"])\n",
    "plt.xlim(0,40)\n",
    "plt.legend()\n",
    "plt.show()"
   ]
  },
  {
   "cell_type": "code",
   "execution_count": 639,
   "metadata": {},
   "outputs": [],
   "source": [
    "\n",
    "# def test_ivp(t, y, input_k, input_z, input_Q, input_V):\n",
    "#     # pose\n",
    "#     input_p = np.transpose(np.array([[2.5+2.5*np.cos(0.4*t), 2.5*np.sin(0.4*t), 10]]))\n",
    "#     test_p = np.transpose(np.array([[2.5+2.5*np.cos(0.4*0), 2.5*np.sin(0.4*0), 10]]))\n",
    "    \n",
    "#     # velocity\n",
    "#     input_v = np.transpose(np.array([[-np.sin(0.4*t), np.cos(0.4*t), 0]]))\n",
    "#     # angular velocity\n",
    "#     input_omega = np.transpose(np.array([[0.1*np.sin(t), 0.4*np.cos(2*t), 0.6*t]]))\n",
    "    \n",
    "#     # (Rot.flatten(), Rot_hat.flatten(), p_bar_hat.flatten(), P_ricatti.flatten())\n",
    "#     Rot_flat, input_p_flat, input_p_bar_flat = np.split(y, [9, 12])\n",
    "#     input_R = Rot_flat.reshape((3,3))\n",
    "#     input_p = input_p_flat.reshape((3,1))\n",
    "#     output_R = np.matmul(input_R, function_S(input_omega))\n",
    "#     output_p_bar = np.matmul(np.transpose(output_R), input_p)\n",
    "#     output_p = input_p\n",
    "#     # (Rot.flatten(), Rot_hat.flatten(), p_bar_hat.flatten(), P_ricatti.flatten())\n",
    "#     return np.concatenate((output_R.flatten(), output_p.flatten(), output_p_bar.flatten()))\n",
    "\n",
    "# time = (0, 40)\n",
    "# t = 0\n",
    "# Rot_hat = R_hat_0 \n",
    "# Rot = R_0\n",
    "# p_hat = p_hat_0\n",
    "# p_bar_hat = add_bar(Rot_hat, p_hat)\n",
    "# p = np.transpose(np.array([[2.5+2.5*np.cos(0.4*t), 2.5*np.sin(0.4*t), 10]]))\n",
    "# p_bar = np.matmul(np.transpose(Rot), p)\n",
    "# omega = np.transpose(np.array([[0.1*np.sin(t), 0.4*np.cos(2*t), 0.6*t]]))\n",
    "# P_ricatti = P_0\n",
    "# initial_state = np.concatenate((Rot.flatten(), p.flatten(), p_bar.flatten()))\n",
    "# #current observer equations\n",
    "# sol2 = solve_ivp(test_ivp, time, initial_state, args=(k, z, Q, V), t_eval=np.linspace(*time, 200))\n"
   ]
  },
  {
   "cell_type": "code",
   "execution_count": 640,
   "metadata": {},
   "outputs": [
    {
     "data": {
      "image/png": "[encoded data removed]",
      "text/plain": [
       "<Figure size 640x480 with 1 Axes>"
      ]
     },
     "metadata": {},
     "output_type": "display_data"
    }
   ],
   "source": [
    "import matplotlib.pyplot as plt\n",
    "# figure = plt.subplot()\n",
    "\n",
    "plt.plot(sol2.t, np.transpose(np.array(sol2.y))[:, 12:], label=[\"x\", \"y\", \"z\"])\n",
    "# plt.plot(sol2.t, np.transpose(np.array(sol2.y))[:, 9:12], label=[\"x\", \"y\", \"z\"])\n",
    "plt.xlim(0,40)\n",
    "plt.legend()\n",
    "plt.show()"
   ]
  }
 ],
 "metadata": {
  "kernelspec": {
   "display_name": "Python 3",
   "language": "python",
   "name": "python3"
  },
  "language_info": {
   "codemirror_mode": {
    "name": "ipython",
    "version": 3
   },
   "file_extension": ".py",
   "mimetype": "text/x-python",
   "name": "python",
   "nbconvert_exporter": "python",
   "pygments_lexer": "ipython3",
   "version": "3.8.10"
  }
 },
 "nbformat": 4,
 "nbformat_minor": 2
}
