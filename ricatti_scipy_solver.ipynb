{
 "cells": [
  {
   "cell_type": "code",
   "execution_count": 1,
   "metadata": {},
   "outputs": [],
   "source": [
    "import numpy as np\n",
    "from scipy.integrate import solve_ivp"
   ]
  },
  {
   "cell_type": "code",
   "execution_count": 2,
   "metadata": {},
   "outputs": [],
   "source": [
    "def function_S(input):\n",
    "    # input should be array\n",
    "    # output array\n",
    "    flattened_input = input.flatten()\n",
    "    output = [[0,           -flattened_input[2],    flattened_input[1]],\n",
    "              [flattened_input[2],  0,              -flattened_input[0]],\n",
    "              [-flattened_input[1], flattened_input[0],     0]]\n",
    "    return np.array(output)"
   ]
  },
  {
   "cell_type": "code",
   "execution_count": 3,
   "metadata": {},
   "outputs": [],
   "source": [
    "def rodrigues_formula(quaternion):\n",
    "    '''\n",
    "    quaternion -> R_tile_bar\n",
    "    input: [w,x,y,z]\n",
    "    output R_tile_bar (rotation matrix)\n",
    "    '''\n",
    "    return np.eye(3) + 2*np.matmul(function_S(quaternion[1:]), (quaternion[0]*np.eye(3) + function_S(quaternion[1:])))\n"
   ]
  },
  {
   "cell_type": "code",
   "execution_count": 4,
   "metadata": {},
   "outputs": [],
   "source": [
    "l = 3\n",
    "k = 1\n",
    "q = [10, 10, 10]\n",
    "Q = np.diag(np.hstack([np.diag(q[0]*np.eye(3)), np.diag(q[1]*np.eye(3)), np.diag(q[2]*np.eye(3))]))\n",
    "V = np.diag(np.hstack([np.diag(0.1*np.eye(3)), np.diag(np.eye(3))]))\n",
    "P_0 = np.diag(np.hstack([np.diag(np.eye(3)), np.diag(100*np.eye(3))]))\n",
    "#initial state\n",
    "p_0 = np.array([[2.5, 0, 10]]).T\n",
    "R_0 = np.eye(3)\n",
    "\n",
    "#initial estimation\n",
    "p_hat_0 = np.array([[-2, 4, 3]]).T\n",
    "Lambda_bar_0 = np.array([np.sqrt(2)/2, np.sqrt(2)/2, 0, 0]).T  # quaternion: w, x, y, z\n",
    "## R_hat = R x R_tile_bar\n",
    "R_hat_0 = np.matmul(R_0, rodrigues_formula(Lambda_bar_0))\n",
    "\n",
    "# landmarks\n",
    "z = np.array([[[0, 0, 0]], \n",
    "              [[5, 0, 0]],\n",
    "              [[2.5, 2.5, 0]]])"
   ]
  },
  {
   "cell_type": "code",
   "execution_count": 5,
   "metadata": {},
   "outputs": [],
   "source": [
    "def function_A(omega):\n",
    "    A11 = -function_S(omega)\n",
    "    A12 = np.zeros((3,3))\n",
    "    A21 = np.zeros((3,3))\n",
    "    A22 = -function_S(omega)\n",
    "    return np.vstack((np.hstack((A11, A12)), np.hstack((A21, A22))))"
   ]
  },
  {
   "cell_type": "code",
   "execution_count": 6,
   "metadata": {},
   "outputs": [],
   "source": [
    "def function_Pi(input):\n",
    "    '''\n",
    "    Pi_x := I_3 - xx^T\n",
    "    input: array\n",
    "    output P_x\n",
    "    '''\n",
    "    return np.eye(3) - np.matmul(input, np.transpose(input))"
   ]
  },
  {
   "cell_type": "code",
   "execution_count": 7,
   "metadata": {},
   "outputs": [],
   "source": [
    "def function_d(input_rot, input_p, input_z):\n",
    "    '''\n",
    "    calculate d_i(t) := R^T(t)(p(t) - z_i)/|p(t)-z_i|\n",
    "    '''\n",
    "    norm = (input_p - input_z)/np.linalg.norm(input_p - input_z)\n",
    "    return np.matmul(np.transpose(input_rot), norm)"
   ]
  },
  {
   "cell_type": "code",
   "execution_count": 8,
   "metadata": {},
   "outputs": [],
   "source": [
    "def function_C(input_R, input_R_hat, input_p, input_z):\n",
    "    for landmark_idx in range(l):\n",
    "        # S(R_hat.T x z)\n",
    "        #TODO: remember to change the R_0 and p_0 below for gerenal\n",
    "        first = function_Pi(function_d(input_R, input_p, np.transpose(input_z[landmark_idx])))\n",
    "        second = function_S(np.matmul(np.transpose(input_R_hat), np.transpose(input_z[landmark_idx])))\n",
    "        final = -np.matmul(first, second)\n",
    "        C_landmark = np.hstack((final, first))\n",
    "        if landmark_idx == 0:\n",
    "            output_C = C_landmark\n",
    "        else:\n",
    "            output_C = np.vstack((output_C, C_landmark))\n",
    "    return output_C"
   ]
  },
  {
   "cell_type": "code",
   "execution_count": 9,
   "metadata": {},
   "outputs": [],
   "source": [
    "def add_bar(input_rot, input_p):\n",
    "    return np.matmul(np.transpose(input_rot), input_p)"
   ]
  },
  {
   "cell_type": "code",
   "execution_count": 10,
   "metadata": {},
   "outputs": [],
   "source": [
    "def function_K(input_P, input_C, input_Q, input_k):\n",
    "    #TODO: HAVENT CHECK THIS FUNCTION\n",
    "    return input_k* np.matmul(input_P, np.matmul(np.transpose(input_C), input_Q))"
   ]
  },
  {
   "cell_type": "code",
   "execution_count": 11,
   "metadata": {},
   "outputs": [],
   "source": [
    "def remove_bar(input_R, input_p):\n",
    "    return np.matmul(np.transpose(np.linalg.inv(input_R)), input_p)"
   ]
  },
  {
   "cell_type": "code",
   "execution_count": 12,
   "metadata": {},
   "outputs": [],
   "source": [
    "\n",
    "def dynamics(t, y, input_k, input_z, input_Q, input_V):\n",
    "    # pose\n",
    "    input_p = np.transpose(np.array([[2.5+2.5*np.cos(0.4*t), 2.5*np.sin(0.4*t), 10]]))\n",
    "    \n",
    "    # velocity\n",
    "    input_v = np.transpose(np.array([[-np.sin(0.4*t), np.cos(0.4*t), 0]]))\n",
    "    # angular velocity\n",
    "    input_omega = np.transpose(np.array([[0.1*np.sin(t), 0.4*np.cos(2*t), 0.6*t]]))\n",
    "    \n",
    "    # (Rot.flatten(), Rot_hat.flatten(), p_bar_hat.flatten(), P_ricatti.flatten())\n",
    "    Rot_flat, Rot_hat_flat, p_bar_hat_flat, input_P_flat = np.split(y, [9, 18, 21])\n",
    "    input_R = Rot_flat.reshape((3,3))\n",
    "    input_p_bar_hat = p_bar_hat_flat.reshape((3,1))\n",
    "    input_R_hat = Rot_hat_flat.reshape((3,3))\n",
    "    input_P = input_P_flat.reshape((6,6))\n",
    "\n",
    "    if t != 0.0:\n",
    "        input_R = np.matmul(input_R, function_S(input_omega))\n",
    "    \n",
    "    input_A = function_A(input_omega)\n",
    "    input_C = function_C(input_R, input_R_hat, input_p, input_z)\n",
    "\n",
    "    # omega_hat , p_bar_hat_dot\n",
    "    # omega\n",
    "    first_upper = input_omega\n",
    "    \n",
    "    # -S(omega)p_bat_hat + v_bar\n",
    "    #TODO: change this for general (R_0)\n",
    "    first_lower = np.matmul(-function_S(input_omega), input_p_bar_hat) + add_bar(input_R, input_v)\n",
    "    first_part = np.vstack((first_upper, first_lower))\n",
    "\n",
    "    # omega_hat second part upper\n",
    "    final = np.transpose(np.array([[0, 0, 0]], dtype=np.float64))\n",
    "    for landmark_idx in range(l):\n",
    "        #q*S(R_hat.T x z)\n",
    "        first = q[landmark_idx]*function_S(np.matmul(np.transpose(input_R_hat), np.transpose(input_z[landmark_idx])))\n",
    "        #Pi_d\n",
    "        #TODO: remember to change the R_0 and p_0 below for gerenal\n",
    "        second = function_Pi(function_d(input_R, input_p, np.transpose(input_z[landmark_idx]))) #TODO\n",
    "        #(p_bar_hat - R_hat.T x z)\n",
    "        third = input_p_bar_hat - np.matmul(np.transpose(input_R_hat), np.transpose(input_z[landmark_idx]))\n",
    "        final += np.matmul(first, np.matmul(second, third))\n",
    "\n",
    "    # omega_hat second part lower\n",
    "    final2 = np.transpose(np.array([[0, 0, 0]], dtype=np.float64))\n",
    "    for landmark_idx in range(l):\n",
    "        #q*Pi_d\n",
    "        #TODO: remember to change the R_0 and p_0 below for gerenal\n",
    "        first = q[landmark_idx]*function_Pi(function_d(input_R, input_p, np.transpose(input_z[landmark_idx]))) #TODO\n",
    "        #(p_bar_hat - R_hat.T x z)\n",
    "        second = input_p_bar_hat - np.matmul(np.transpose(input_R_hat), np.transpose(input_z[landmark_idx]))\n",
    "        final2 += np.matmul(first, second)\n",
    "    second_part = np.vstack((final, final2))\n",
    "    #kP[]\n",
    "    #full second part \n",
    "    second_part = input_k*np.matmul(input_P, second_part)\n",
    "\n",
    "    # Final\n",
    "    output_omega_hat_p_bar_hat_dot = first_part - second_part\n",
    "\n",
    "    output_omega = output_omega_hat_p_bar_hat_dot[0:3]\n",
    "    output_R_hat_dot = np.matmul(input_R_hat, function_S(output_omega))\n",
    "    output_P_dot = np.matmul(input_A, input_P) + np.matmul(input_P, np.transpose(input_A)) - np.matmul(input_P, np.matmul(np.transpose(input_C), np.matmul(input_Q, np.matmul(input_C, input_P)))) + input_V\n",
    "    \n",
    "    omega_hat = output_omega_hat_p_bar_hat_dot[0:3]\n",
    "    p_bar_hat_dot = output_omega_hat_p_bar_hat_dot[3:]\n",
    "    output_R = np.matmul(input_R, function_S(input_omega))\n",
    "    # R_next_hat = Rot_hat + output_R_hat_dot*(t-last_time)\n",
    "    # p_next_bar_hat = p_hat + p_bar_hat_dot*(t - last_time)\n",
    "    # p_next_hat = remove_bar(R_next_hat, p_next_bar_hat)\n",
    "\n",
    "    # (Rot.flatten(), Rot_hat.flatten(), p_bar_hat.flatten(), P_ricatti.flatten())\n",
    "    return np.concatenate((output_R.flatten(), output_R_hat_dot.flatten(), p_bar_hat_dot.flatten(), output_P_dot.flatten()))\n"
   ]
  },
  {
   "cell_type": "code",
   "execution_count": 13,
   "metadata": {},
   "outputs": [],
   "source": [
    "from scipy.integrate import solve_ivp\n",
    "\n",
    "##################################\n",
    "##### scipy #####\n",
    "##################################\n",
    "time = (0, 30)\n",
    "t = 0\n",
    "######################################################\n",
    "################# initialization #####################\n",
    "######################################################\n",
    "Rot_hat = R_hat_0 \n",
    "Rot = R_0\n",
    "p_hat = p_hat_0\n",
    "p_bar_hat = add_bar(Rot_hat, p_hat)\n",
    "p = np.transpose(np.array([[2.5+2.5*np.cos(0.4*t), 2.5*np.sin(0.4*t), 10]]))\n",
    "P_ricatti = P_0\n",
    "initial_state = np.concatenate((Rot.flatten(), Rot_hat.flatten(), p_bar_hat.flatten(), P_ricatti.flatten()))\n",
    "#current observer equations\n",
    "sol = solve_ivp(dynamics, time, initial_state, args=(k, z, Q, V), t_eval=np.linspace(*time, 100))\n"
   ]
  },
  {
   "cell_type": "code",
   "execution_count": 14,
   "metadata": {},
   "outputs": [],
   "source": [
    "seesee = sol.y"
   ]
  },
  {
   "cell_type": "code",
   "execution_count": 15,
   "metadata": {},
   "outputs": [],
   "source": [
    "# Rot_flat, Rot_hat_flat, p_hat_flat, input_P_flat\n",
    "seesee = np.transpose(np.array(seesee))"
   ]
  },
  {
   "cell_type": "code",
   "execution_count": 16,
   "metadata": {},
   "outputs": [],
   "source": [
    "est_p = seesee[:,18:21]"
   ]
  },
  {
   "cell_type": "code",
   "execution_count": 17,
   "metadata": {},
   "outputs": [
    {
     "data": {
      "text/plain": [
       "array([[-2.        ,  3.        , -4.        ],\n",
       "       [ 2.45824934,  0.08238444, -0.99263463],\n",
       "       [ 2.54863335, -0.10972357, -0.80907624],\n",
       "       [ 2.54703712, -0.47601198, -0.7756018 ],\n",
       "       [ 2.3865717 , -0.96867649, -0.91915702],\n",
       "       [ 2.03400758, -1.46256949, -1.12133998],\n",
       "       [ 1.46060337, -1.91053383, -1.24384149],\n",
       "       [ 0.63694777, -2.24555477, -1.25058183],\n",
       "       [-0.34582601, -2.29935332, -1.19924597],\n",
       "       [-1.319006  , -1.90816732, -1.20898687],\n",
       "       [-1.99537894, -1.01182556, -1.37132411],\n",
       "       [-2.06288906,  0.20419256, -1.62074028],\n",
       "       [-1.39496031,  1.35386873, -1.77991312],\n",
       "       [-0.16294696,  1.9364351 , -1.78155582],\n",
       "       [ 1.14165719,  1.59165693, -1.76294114],\n",
       "       [ 1.79945985,  0.39610212, -1.88384797],\n",
       "       [ 1.29477838, -0.94955678, -2.08951189],\n",
       "       [-0.11066271, -1.45390528, -2.19506274],\n",
       "       [-1.31261265, -0.63538736, -2.19509152],\n",
       "       [-1.15570967,  0.80549648, -2.2276068 ],\n",
       "       [ 0.33625745,  1.33124197, -2.24946528],\n",
       "       [ 1.55883472,  0.13520299, -2.12043131],\n",
       "       [ 0.87199824, -1.52681641, -1.96303119],\n",
       "       [-1.09765316, -1.41576611, -1.93246365],\n",
       "       [-1.71083745,  0.64044627, -1.89868673],\n",
       "       [ 0.10893048,  1.84889065, -1.87426176],\n",
       "       [ 1.64640703,  0.28637673, -2.03754294],\n",
       "       [ 0.27038357, -1.49857987, -2.15054306],\n",
       "       [-1.60322273, -0.2866327 , -2.07196921],\n",
       "       [-0.30561214,  1.59031086, -2.07921471],\n",
       "       [ 1.67988954,  0.12156219, -2.0263836 ],\n",
       "       [ 0.05918086, -1.82873332, -1.89623443],\n",
       "       [-1.6849116 ,  0.09396477, -2.02375989],\n",
       "       [ 0.55271843,  1.51831257, -2.08144717],\n",
       "       [ 1.3372692 , -0.95434063, -2.06055016],\n",
       "       [-1.37277167, -0.85750498, -2.07940062],\n",
       "       [-0.34319811,  1.76774007, -1.92368495],\n",
       "       [ 1.68520475, -0.25237567, -2.00989462],\n",
       "       [-1.04625173, -1.19940429, -2.10004906],\n",
       "       [-0.44087424,  1.58909305, -2.05531617],\n",
       "       [ 1.6359256 , -0.58590116, -1.98082796],\n",
       "       [-1.37313675, -1.06416167, -1.98124554],\n",
       "       [ 0.18192693,  1.55257062, -2.12125713],\n",
       "       [ 1.0194146 , -1.37348212, -2.00440114],\n",
       "       [-1.70463874,  0.24045159, -1.99492365],\n",
       "       [ 1.39403394,  0.92254108, -2.03685282],\n",
       "       [-0.68002161, -1.45197668, -2.09103784],\n",
       "       [-0.31913921,  1.7472963 , -1.9463447 ],\n",
       "       [ 1.08013792, -1.21154983, -2.07576399],\n",
       "       [-1.54209677,  0.66748442, -2.02957954],\n",
       "       [ 1.68413395, -0.01451452, -2.0265154 ],\n",
       "       [-1.55925337, -0.68934593, -2.00911787],\n",
       "       [ 1.30886036,  0.96013816, -2.07558351],\n",
       "       [-1.01938475, -1.40068071, -1.98541863],\n",
       "       [ 0.73447943,  1.48640868, -2.04801405],\n",
       "       [-0.52233751, -1.56390178, -2.05525773],\n",
       "       [ 0.39994481,  1.69950357, -1.97355293],\n",
       "       [-0.32621613, -1.55919397, -2.09890315],\n",
       "       [ 0.42085815,  1.69561172, -1.97246363],\n",
       "       [-0.49731726, -1.5658662 , -2.06006341],\n",
       "       [ 0.76483835,  1.48656872, -2.03663118],\n",
       "       [-0.99882442, -1.39476667, -2.00000135],\n",
       "       [ 1.31425771,  0.97009641, -2.06747934],\n",
       "       [-1.57548665, -0.67117887, -2.00256999],\n",
       "       [ 1.65757947, -0.01616826, -2.04816337],\n",
       "       [-1.56935712,  0.66363141, -2.00989095],\n",
       "       [ 1.05885491, -1.2351495 , -2.07268748],\n",
       "       [-0.31524797,  1.71726289, -1.97344497],\n",
       "       [-0.66843268, -1.48056156, -2.07460234],\n",
       "       [ 1.43797977,  0.89336992, -2.01914024],\n",
       "       [-1.65950312,  0.2551938 , -2.03070729],\n",
       "       [ 1.04957362, -1.34600363, -2.00734748],\n",
       "       [ 0.20755741,  1.60588405, -2.0786744 ],\n",
       "       [-1.39279817, -0.99577251, -2.00283702],\n",
       "       [ 1.59369806, -0.56181937, -2.02171417],\n",
       "       [-0.47940928,  1.60257405, -2.03583049],\n",
       "       [-1.11107389, -1.22290535, -2.05252537],\n",
       "       [ 1.6439677 , -0.33138923, -2.03232671],\n",
       "       [-0.3330639 ,  1.69843591, -1.98674912],\n",
       "       [-1.37054748, -0.89881396, -2.06312572],\n",
       "       [ 1.36046687, -0.99630463, -2.0246404 ],\n",
       "       [ 0.61682484,  1.54366413, -2.04438085],\n",
       "       [-1.65250681,  0.19589454, -2.04294254],\n",
       "       [ 0.03232896, -1.73270139, -1.98480389],\n",
       "       [ 1.65522457,  0.17342489, -2.04277745],\n",
       "       [-0.325004  ,  1.63143257, -2.04339239],\n",
       "       [-1.66537127, -0.29876882, -2.0199019 ],\n",
       "       [ 0.20727085, -1.62233827, -2.06587805],\n",
       "       [ 1.66443011,  0.09131715, -2.04060412],\n",
       "       [ 0.22777572,  1.70501873, -1.99594251],\n",
       "       [-1.57474142,  0.61404802, -2.02136043],\n",
       "       [-0.99716278, -1.35911029, -2.02514034],\n",
       "       [ 0.95612696, -1.41235568, -2.00842717],\n",
       "       [ 1.63683867,  0.3214465 , -2.0396458 ],\n",
       "       [ 0.36454628,  1.59428818, -2.06593082],\n",
       "       [-1.2671876 ,  1.07465964, -2.04500972],\n",
       "       [-1.59621877, -0.50432946, -2.0348108 ],\n",
       "       [-0.48512827, -1.57502606, -2.05588015],\n",
       "       [ 0.97540698, -1.32792045, -2.05618911],\n",
       "       [ 1.6819112 , -0.1291701 , -2.02415602]])"
      ]
     },
     "execution_count": 17,
     "metadata": {},
     "output_type": "execute_result"
    }
   ],
   "source": [
    "est_p"
   ]
  }
 ],
 "metadata": {
  "kernelspec": {
   "display_name": "Python 3",
   "language": "python",
   "name": "python3"
  },
  "language_info": {
   "codemirror_mode": {
    "name": "ipython",
    "version": 3
   },
   "file_extension": ".py",
   "mimetype": "text/x-python",
   "name": "python",
   "nbconvert_exporter": "python",
   "pygments_lexer": "ipython3",
   "version": "3.8.10"
  }
 },
 "nbformat": 4,
 "nbformat_minor": 2
}
