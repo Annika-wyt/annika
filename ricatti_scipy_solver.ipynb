{
 "cells": [
  {
   "cell_type": "code",
   "execution_count": 1,
   "metadata": {},
   "outputs": [],
   "source": [
    "import numpy as np\n",
    "from scipy.integrate import solve_ivp"
   ]
  },
  {
   "cell_type": "code",
   "execution_count": 2,
   "metadata": {},
   "outputs": [],
   "source": [
    "def function_S(input):\n",
    "    # input should be array\n",
    "    # output array\n",
    "    flattened_input = input.flatten()\n",
    "    output = [[0,           -flattened_input[2],    flattened_input[1]],\n",
    "              [flattened_input[2],  0,              -flattened_input[0]],\n",
    "              [-flattened_input[1], flattened_input[0],     0]]\n",
    "    return np.array(output)"
   ]
  },
  {
   "cell_type": "code",
   "execution_count": 3,
   "metadata": {},
   "outputs": [],
   "source": [
    "def rodrigues_formula(quaternion):\n",
    "    '''\n",
    "    quaternion -> R_tilde_bar\n",
    "    input: [w,x,y,z]\n",
    "    output R_tile_bar (rotation matrix)\n",
    "    From page6\n",
    "    '''\n",
    "    return np.eye(3) + 2*np.matmul(function_S(quaternion[1:]), (quaternion[0]*np.eye(3) + function_S(quaternion[1:])))\n"
   ]
  },
  {
   "cell_type": "code",
   "execution_count": 4,
   "metadata": {},
   "outputs": [],
   "source": [
    "l = 3\n",
    "k = 1\n",
    "q = [10, 10, 10]\n",
    "Q = np.diag(np.hstack([np.diag(q[0]*np.eye(3)), np.diag(q[1]*np.eye(3)), np.diag(q[2]*np.eye(3))]))\n",
    "V = np.diag(np.hstack([np.diag(0.1*np.eye(3)), np.diag(np.eye(3))]))\n",
    "P_0 = np.diag(np.hstack([np.diag(np.eye(3)), np.diag(100*np.eye(3))]))\n",
    "\n",
    "#initial state\n",
    "p_0 = np.array([[2.5, 0, 10]], dtype=np.float64).T\n",
    "R_0 = np.eye(3)\n",
    "\n",
    "#initial estimation\n",
    "p_hat_0 = np.array([[-2, 4, 3]], dtype=np.float64).T\n",
    "Lambda_bar_0 = np.array([np.sqrt(2)/2, np.sqrt(2)/2, 0, 0]).T  # quaternion: w, x, y, z\n",
    "\n",
    "## R_hat = R x R_tilde_bar\n",
    "R_hat_0 = np.matmul(R_0, rodrigues_formula(Lambda_bar_0))\n",
    "\n",
    "# landmarks\n",
    "z = np.array([[[0, 0, 0]], \n",
    "              [[5, 0, 0]],\n",
    "              [[2.5, 2.5, 0]]])"
   ]
  },
  {
   "cell_type": "code",
   "execution_count": 5,
   "metadata": {},
   "outputs": [],
   "source": [
    "def function_A(omega):\n",
    "    A11 = function_S(-omega)\n",
    "    A12 = np.zeros((3,3))\n",
    "    A21 = np.zeros((3,3))\n",
    "    A22 = function_S(-omega)\n",
    "    return np.vstack((np.hstack((A11, A12)), np.hstack((A21, A22))))\n"
   ]
  },
  {
   "cell_type": "code",
   "execution_count": 6,
   "metadata": {},
   "outputs": [],
   "source": [
    "def function_Pi(input):\n",
    "    '''\n",
    "    Pi_x := I_3 - xx^T\n",
    "    input: array\n",
    "    output P_x\n",
    "    '''\n",
    "    return np.eye(3) - np.matmul(input, np.transpose(input))"
   ]
  },
  {
   "cell_type": "code",
   "execution_count": 7,
   "metadata": {},
   "outputs": [],
   "source": [
    "def function_d(input_rot, input_p, input_z):\n",
    "    '''\n",
    "    calculate d_i(t) := R^T(t)(p(t) - z_i)/|p(t)-z_i|\n",
    "    '''\n",
    "    norm = (input_p - input_z)/np.linalg.norm(input_p - input_z)\n",
    "    return np.matmul(np.transpose(input_rot), norm)"
   ]
  },
  {
   "cell_type": "code",
   "execution_count": 8,
   "metadata": {},
   "outputs": [],
   "source": [
    "def function_C(input_R, input_R_hat, input_p, input_z):\n",
    "    for landmark_idx in range(l):\n",
    "        # S(R_hat.T x z)\n",
    "        #TODO: remember to change the R_0 and p_0 below for gerenal\n",
    "        first = function_Pi(function_d(input_R, input_p, np.transpose(input_z[landmark_idx])))\n",
    "        second = function_S(np.matmul(np.transpose(input_R_hat), np.transpose(input_z[landmark_idx])))\n",
    "        final = -np.matmul(first, second)\n",
    "        C_landmark = np.hstack((final, first))\n",
    "        if landmark_idx == 0:\n",
    "            output_C = C_landmark\n",
    "        else:\n",
    "            output_C = np.vstack((output_C, C_landmark))\n",
    "    return output_C"
   ]
  },
  {
   "cell_type": "code",
   "execution_count": 9,
   "metadata": {},
   "outputs": [],
   "source": [
    "def add_bar(input_rot, input_p):\n",
    "    return np.matmul(np.transpose(input_rot), input_p)"
   ]
  },
  {
   "cell_type": "code",
   "execution_count": 10,
   "metadata": {},
   "outputs": [],
   "source": [
    "def function_K(input_P, input_C, input_Q, input_k):\n",
    "    #TODO: HAVENT CHECK THIS FUNCTION\n",
    "    return input_k* np.matmul(input_P, np.matmul(np.transpose(input_C), input_Q))"
   ]
  },
  {
   "cell_type": "code",
   "execution_count": 11,
   "metadata": {},
   "outputs": [],
   "source": [
    "def remove_bar(input_R, input_p):\n",
    "    return np.matmul(np.transpose(np.linalg.inv(input_R)), input_p)"
   ]
  },
  {
   "cell_type": "code",
   "execution_count": 12,
   "metadata": {},
   "outputs": [],
   "source": [
    "\n",
    "def dynamics(t, y, input_k, input_z, input_Q, input_V):\n",
    "    # pose\n",
    "    input_p = np.transpose(np.array([[2.5+2.5*np.cos(0.4*t), 2.5*np.sin(0.4*t), 10]]))\n",
    "\n",
    "    ########################\n",
    "    ##### Measurements #####\n",
    "    # velocity\n",
    "    input_v = np.transpose(np.array([[-np.sin(0.4*t), np.cos(0.4*t), 0]]))\n",
    "    # angular velocity\n",
    "    input_omega = np.transpose(np.array([[0.1*np.sin(t), 0.4*np.cos(2*t), 0.6*t]]))\n",
    "    ##### Measurements #####\n",
    "    ########################\n",
    "\n",
    "    # (Rot.flatten(), Rot_hat.flatten(), p_bar_hat.flatten(), P_ricatti.flatten())\n",
    "    Rot_flat, Rot_hat_flat, p_bar_hat_flat, input_P_flat = np.split(y, [9, 18, 21])\n",
    "    input_R = Rot_flat.reshape((3,3))\n",
    "    input_R_hat = Rot_hat_flat.reshape((3,3))\n",
    "    input_p_bar_hat = p_bar_hat_flat.reshape((3,1))\n",
    "    input_P = input_P_flat.reshape((6,6))\n",
    "\n",
    "    # input_R = np.matmul(input_R, function_S(input_omega))\n",
    "    input_A = function_A(input_omega)\n",
    "    input_C = function_C(input_R, input_R_hat, input_p, input_z)\n",
    "\n",
    "    # omega_hat , p_bar_hat_dot\n",
    "    # omega\n",
    "    first_upper = input_omega\n",
    "    \n",
    "    # -S(omega)p_bat_hat + v_bar\n",
    "    #TODO: change this for general (R_0)\n",
    "    first_lower = -np.matmul(function_S(input_omega), input_p_bar_hat) + add_bar(input_R, input_v)\n",
    "    first_part = np.vstack((first_upper, first_lower))\n",
    "\n",
    "    # omega_hat second part upper\n",
    "    final = np.transpose(np.array([[0, 0, 0]], dtype=np.float64))\n",
    "    for landmark_idx in range(l):\n",
    "        #q*S(R_hat.T x z)\n",
    "        first = q[landmark_idx]*function_S(np.matmul(np.transpose(input_R_hat), np.transpose(input_z[landmark_idx])))\n",
    "        #Pi_d\n",
    "        #TODO: remember to change the R_0 and p_0 below for gerenal\n",
    "        second = function_Pi(function_d(input_R, input_p, np.transpose(input_z[landmark_idx]))) #TODO\n",
    "        #(p_bar_hat - R_hat.T x z)\n",
    "        third = input_p_bar_hat - np.matmul(np.transpose(input_R_hat), np.transpose(input_z[landmark_idx]))\n",
    "        final += np.matmul(first, np.matmul(second, third))\n",
    "\n",
    "    # omega_hat second part lower\n",
    "    final2 = np.transpose(np.array([[0, 0, 0]], dtype=np.float64))\n",
    "    for landmark_idx in range(l):\n",
    "        #q*Pi_d\n",
    "        #TODO: remember to change the R_0 and p_0 below for gerenal\n",
    "        first = q[landmark_idx]*function_Pi(function_d(input_R, input_p, np.transpose(input_z[landmark_idx]))) #TODO\n",
    "        #(p_bar_hat - R_hat.T x z)\n",
    "        second = input_p_bar_hat - np.matmul(np.transpose(input_R_hat), np.transpose(input_z[landmark_idx]))\n",
    "        final2 += np.matmul(first, second)\n",
    "\n",
    "    second_part = np.vstack((final, final2))\n",
    "    #kP[]\n",
    "    #full second part \n",
    "    second_part = input_k*np.matmul(input_P, second_part)\n",
    "\n",
    "    # Final\n",
    "    output_omega_hat_p_bar_hat_dot = first_part - second_part\n",
    "\n",
    "    output_P_dot = np.matmul(input_A, input_P) + np.matmul(input_P, np.transpose(input_A)) - np.matmul(input_P, np.matmul(np.transpose(input_C), np.matmul(input_Q, np.matmul(input_C, input_P)))) + input_V\n",
    "    \n",
    "    omega_hat = output_omega_hat_p_bar_hat_dot[0:3]\n",
    "    output_R_hat_dot = np.matmul(input_R_hat, function_S(omega_hat))\n",
    "    p_bar_hat_dot = output_omega_hat_p_bar_hat_dot[3:]\n",
    "    output_R = np.matmul(input_R, function_S(input_omega))\n",
    "\n",
    "    # (Rot.flatten(), Rot_hat.flatten(), p_bar_hat.flatten(), P_ricatti.flatten())\n",
    "    return np.concatenate((output_R.flatten(), output_R_hat_dot.flatten(), p_bar_hat_dot.flatten(), output_P_dot.flatten()))\n"
   ]
  },
  {
   "cell_type": "code",
   "execution_count": 13,
   "metadata": {},
   "outputs": [],
   "source": [
    "from scipy.integrate import solve_ivp\n",
    "\n",
    "##################################\n",
    "##### scipy #####\n",
    "##################################\n",
    "time = (0, 100)\n",
    "t = 0\n",
    "######################################################\n",
    "################# initialization #####################\n",
    "######################################################\n",
    "Rot = R_0\n",
    "Rot_hat = R_hat_0 \n",
    "p_hat = p_hat_0\n",
    "p_bar_hat = add_bar(Rot_hat, p_hat)\n",
    "P_ricatti = P_0\n",
    "\n",
    "p = np.transpose(np.array([[2.5+2.5*np.cos(0.4*t), 2.5*np.sin(0.4*t), 10]]))\n",
    "omega = np.transpose(np.array([[0.1*np.sin(t), 0.4*np.cos(2*t), 0.6*t]]))\n",
    "initial_state = np.concatenate((Rot.flatten(), Rot_hat.flatten(), p_bar_hat.flatten(), P_ricatti.flatten()))"
   ]
  },
  {
   "cell_type": "code",
   "execution_count": 14,
   "metadata": {},
   "outputs": [],
   "source": [
    "#current observer equations\n",
    "# sol = solve_ivp(dynamics, time, initial_state, args=(k, z, Q, V), t_eval=np.linspace(*time, 400), method=\"RK45\")\n",
    "sol = solve_ivp(dynamics, time, initial_state, args=(k, z, Q, V), t_eval=np.linspace(*time, 500), method=\"RK45\", rtol=1e-9, atol=1e-9)\n",
    "# sol = solve_ivp(dynamics, time, initial_state, args=(k, z, Q, V), t_eval=np.linspace(*time, 500), method=\"RK45\",rtol=1e-9)"
   ]
  },
  {
   "cell_type": "code",
   "execution_count": 15,
   "metadata": {},
   "outputs": [],
   "source": [
    "# Rot_flat, Rot_hat_flat, p_hat_flat, input_P_flat\n",
    "solution = np.transpose(np.array(sol.y))\n",
    "sol_R = solution[:,:9]\n",
    "sol_est_R = solution[:,9:18]\n",
    "sol_est_p = solution[:,18:21]\n",
    "sol_P_ricatti = solution[:,21:]"
   ]
  },
  {
   "cell_type": "code",
   "execution_count": 16,
   "metadata": {},
   "outputs": [
    {
     "data": {
      "image/png": "[encoded data removed]",
      "text/plain": [
       "<Figure size 640x480 with 1 Axes>"
      ]
     },
     "metadata": {},
     "output_type": "display_data"
    }
   ],
   "source": [
    "from copy import deepcopy\n",
    "from scipy.spatial.transform import Rotation as ScipyRot\n",
    "plot_err_lambda_bar = []\n",
    "for idx, (t, est_rotation, rotation) in enumerate(zip(sol.t, sol_est_R, sol_R)):\n",
    "    err = np.matmul(np.linalg.inv(np.array(est_rotation).reshape((3,3))), np.array(rotation).reshape((3,3)))\n",
    "    err = ScipyRot.from_matrix(err)\n",
    "    err = err.as_quat().tolist()\n",
    "    plot_err_lambda_bar.append(err)\n",
    "\n",
    "import matplotlib.pyplot as plt\n",
    "figure = plt.subplot()\n",
    "\n",
    "plt.plot(sol.t, np.array(plot_err_lambda_bar)[:,0:3], label=[\"x\", \"y\", \"z\"])\n",
    "plt.xlim(0)\n",
    "plt.ylim(-0.1, 0.1)\n",
    "plt.legend(loc=\"upper right\")\n",
    "plt.grid()\n",
    "plt.minorticks_on()\n",
    "plt.show()"
   ]
  },
  {
   "cell_type": "code",
   "execution_count": 20,
   "metadata": {},
   "outputs": [
    {
     "data": {
      "image/png": "[encoded data removed]",
      "text/plain": [
       "<Figure size 640x480 with 1 Axes>"
      ]
     },
     "metadata": {},
     "output_type": "display_data"
    }
   ],
   "source": [
    "from copy import deepcopy\n",
    "plot_est_p = []\n",
    "plot_act_p_bar = []\n",
    "for t, rotation, pose_hat in zip(sol.t, sol_est_R, sol_est_p):\n",
    "    p = np.array([2.5+2.5*np.cos(0.4*t), 2.5*np.sin(0.4*t), 10])\n",
    "    p_temp = np.matmul(np.linalg.inv(np.transpose(np.array(rotation).reshape((3,3)))), pose_hat)\n",
    "    plot_est_p.append(p_temp)\n",
    "    plot_act_p_bar.append(p)\n",
    "\n",
    "import matplotlib.pyplot as plt\n",
    "figure = plt.subplot()\n",
    "\n",
    "# plt.plot(sol.t, plot_est_p, label=[\"x\", \"y\", \"z\"])\n",
    "# plt.xlim(0)\n",
    "# plt.legend(loc=\"upper right\")\n",
    "# plt.grid()\n",
    "# plt.minorticks_on()\n",
    "# plt.show()\n",
    "\n",
    "# plt.plot(sol.t, plot_act_p_bar, label=[\"x\", \"y\", \"z\"])\n",
    "# plt.xlim(0)\n",
    "# plt.legend(loc=\"upper right\")\n",
    "# plt.grid()\n",
    "# plt.minorticks_on()\n",
    "# plt.show()\n",
    "\n",
    "plt.plot(sol.t, np.array(plot_act_p_bar)-np.array(plot_est_p), label=[\"x\", \"y\", \"z\"])\n",
    "plt.xlim(0)\n",
    "plt.ylim(-0.5, 0.5)\n",
    "plt.legend(loc=\"upper right\")\n",
    "plt.grid()\n",
    "plt.minorticks_on()\n",
    "plt.show()\n"
   ]
  },
  {
   "cell_type": "code",
   "execution_count": 19,
   "metadata": {},
   "outputs": [],
   "source": [
    "# from copy import deepcopy\n",
    "# plot_act_p_bar = []\n",
    "# for t, rotation in zip(sol.t, sol_R):\n",
    "#     p = np.array([2.5+2.5*np.cos(0.4*t), 2.5*np.sin(0.4*t), 10])\n",
    "#     p_bar_temp = np.matmul(np.transpose(np.array(rotation).reshape((3,3))), p).tolist()\n",
    "#     plot_act_p_bar.append(p_bar_temp)\n",
    "\n",
    "# import matplotlib.pyplot as plt\n",
    "# figure = plt.subplot()\n",
    "# print(sol_est_p[:, 0])\n",
    "# print(plot_act_p_bar[:,0])\n",
    "# plt.plot(sol.t, plot_act_p_bar, label=[\"x\", \"y\", \"z\"])\n",
    "# plt.xlim(0)\n",
    "# plt.legend(loc=\"upper right\")\n",
    "# plt.grid()\n",
    "# plt.minorticks_on()\n",
    "# plt.show()\n",
    "\n",
    "# plt.plot(sol.t, sol_est_p, label=[\"est_x\", \"est_y\", \"est_z\"])\n",
    "# plt.xlim(0)\n",
    "# plt.legend(loc=\"upper right\")\n",
    "# plt.grid()\n",
    "# plt.minorticks_on()\n",
    "# plt.show()\n",
    "\n",
    "# plt.plot(sol.t, plot_act_p_bar - sol_est_p, label=[\"diff_x\", \"diff_y\", \"diff_z\"])\n",
    "# plt.xlim(0)\n",
    "# plt.ylim(-0.5, 0.5)\n",
    "# plt.grid()\n",
    "# plt.minorticks_on()\n",
    "# plt.legend(loc=\"upper right\")\n",
    "# plt.show()"
   ]
  }
 ],
 "metadata": {
  "kernelspec": {
   "display_name": "Python 3",
   "language": "python",
   "name": "python3"
  },
  "language_info": {
   "codemirror_mode": {
    "name": "ipython",
    "version": 3
   },
   "file_extension": ".py",
   "mimetype": "text/x-python",
   "name": "python",
   "nbconvert_exporter": "python",
   "pygments_lexer": "ipython3",
   "version": "3.8.10"
  }
 },
 "nbformat": 4,
 "nbformat_minor": 2
}
