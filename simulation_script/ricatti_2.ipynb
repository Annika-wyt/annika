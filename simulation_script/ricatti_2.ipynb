{
 "cells": [
  {
   "cell_type": "code",
   "execution_count": 1,
   "metadata": {},
   "outputs": [],
   "source": [
    "import numpy as np"
   ]
  },
  {
   "cell_type": "code",
   "execution_count": 2,
   "metadata": {},
   "outputs": [],
   "source": [
    "def function_S(input):\n",
    "    # input should be array\n",
    "    # output array\n",
    "    flattened_input = input.flatten()\n",
    "    output = [[0,           -flattened_input[2],    flattened_input[1]],\n",
    "              [flattened_input[2],  0,              -flattened_input[0]],\n",
    "              [-flattened_input[1], flattened_input[0],     0]]\n",
    "    return np.array(output)"
   ]
  },
  {
   "cell_type": "code",
   "execution_count": 3,
   "metadata": {},
   "outputs": [],
   "source": [
    "def rodrigues_formula(quaternion):\n",
    "    '''\n",
    "    quaternion -> R_tile_bar\n",
    "    input: [w,x,y,z]\n",
    "    output R_tile_bar (rotation matrix)\n",
    "    '''\n",
    "    return np.eye(3) + 2*np.matmul(function_S(quaternion[1:]), (quaternion[0]*np.eye(3) + function_S(quaternion[1:])))\n"
   ]
  },
  {
   "cell_type": "code",
   "execution_count": 4,
   "metadata": {},
   "outputs": [],
   "source": [
    "l = 3\n",
    "k = 1\n",
    "q = [10, 10, 10]\n",
    "Q = np.diag(np.hstack([np.diag(q[0]*np.eye(3)), np.diag(q[1]*np.eye(3)), np.diag(q[2]*np.eye(3))]))\n",
    "V = np.diag(np.hstack([np.diag(0.1*np.eye(3)), np.diag(np.eye(3))]))\n",
    "P_0 = np.diag(np.hstack([np.diag(np.eye(3)), np.diag(100*np.eye(3))]))\n",
    "#initial state\n",
    "p_0 = np.array([[2.5, 0, 10]]).T\n",
    "R_0 = np.eye(3)\n",
    "\n",
    "#initial estimation\n",
    "p_hat_0 = np.array([[-2, 4, 3]]).T\n",
    "Lambda_bar_0 = np.array([np.sqrt(2)/2, np.sqrt(2)/2, 0, 0]).T  # quaternion: w, x, y, z\n",
    "## R_hat = R x R_tile_bar\n",
    "R_hat_0 = np.matmul(R_0, rodrigues_formula(Lambda_bar_0))\n",
    "\n",
    "# landmarks\n",
    "z = np.array([[[0, 0, 0]], \n",
    "              [[5, 0, 0]],\n",
    "              [[2.5, 2.5, 0]]])"
   ]
  },
  {
   "cell_type": "code",
   "execution_count": 5,
   "metadata": {},
   "outputs": [
    {
     "data": {
      "text/plain": [
       "array([[1., 0., 0.],\n",
       "       [0., 1., 0.],\n",
       "       [0., 0., 1.]])"
      ]
     },
     "execution_count": 5,
     "metadata": {},
     "output_type": "execute_result"
    }
   ],
   "source": [
    "R_0"
   ]
  },
  {
   "cell_type": "code",
   "execution_count": 6,
   "metadata": {},
   "outputs": [],
   "source": [
    "def function_A(omega):\n",
    "    A11 = -function_S(omega)\n",
    "    A12 = np.zeros((3,3))\n",
    "    A21 = np.zeros((3,3))\n",
    "    A22 = -function_S(omega)\n",
    "    return np.vstack((np.hstack((A11, A12)), np.hstack((A21, A22))))"
   ]
  },
  {
   "cell_type": "code",
   "execution_count": 7,
   "metadata": {},
   "outputs": [],
   "source": [
    "def function_Pi(input):\n",
    "    '''\n",
    "    Pi_x := I_3 - xx^T\n",
    "    input: array\n",
    "    output P_x\n",
    "    '''\n",
    "    return np.eye(3) - np.matmul(input, np.transpose(input))"
   ]
  },
  {
   "cell_type": "code",
   "execution_count": 8,
   "metadata": {},
   "outputs": [],
   "source": [
    "def function_d(input_rot, input_p, input_z):\n",
    "    '''\n",
    "    calculate d_i(t) := R^T(t)(p(t) - z_i)/|p(t)-z_i|\n",
    "    '''\n",
    "    norm = (input_p - input_z)/np.linalg.norm(input_p - input_z)\n",
    "    return np.matmul(np.transpose(input_rot), norm)"
   ]
  },
  {
   "cell_type": "code",
   "execution_count": 9,
   "metadata": {},
   "outputs": [],
   "source": [
    "def function_C(input_R, input_R_hat, input_p, input_z):\n",
    "    for landmark_idx in range(l):\n",
    "        # S(R_hat.T x z)\n",
    "        #TODO: remember to change the R_0 and p_0 below for gerenal\n",
    "        first = function_Pi(function_d(input_R, input_p, np.transpose(input_z[landmark_idx])))\n",
    "        second = function_S(np.matmul(np.transpose(input_R_hat), np.transpose(input_z[landmark_idx])))\n",
    "        final = -np.matmul(first, second)\n",
    "        C_landmark = np.hstack((final, first))\n",
    "        if landmark_idx == 0:\n",
    "            output_C = C_landmark\n",
    "        else:\n",
    "            output_C = np.vstack((output_C, C_landmark))\n",
    "    return output_C"
   ]
  },
  {
   "cell_type": "code",
   "execution_count": 10,
   "metadata": {},
   "outputs": [],
   "source": [
    "def add_bar(input_rot, input_p):\n",
    "    return np.matmul(np.transpose(input_rot), input_p)"
   ]
  },
  {
   "cell_type": "code",
   "execution_count": 11,
   "metadata": {},
   "outputs": [],
   "source": [
    "# observer equation\n",
    "def observer_equation(input_omega, input_R, input_R_hat, input_p, input_p_hat, input_z, input_v, input_A, input_C, input_P, input_Q, input_V):\n",
    "    # omega_hat , p_bar_hat_dot\n",
    "    # omega\n",
    "    first_upper = input_omega\n",
    "    #TODO: change this for general (R_0)\n",
    "    \n",
    "    input_p_bar_hat = add_bar(input_R, input_p_hat)\n",
    "    # -S(omega)p_bat_hat + v_bar\n",
    "    #TODO: change this for general (R_0)\n",
    "    first_lower = np.matmul(-function_S(input_omega), input_p_bar_hat) + add_bar(input_R, input_v)\n",
    "    first_part = np.vstack((first_upper, first_lower))\n",
    "\n",
    "    # omega_hat second part upper\n",
    "    final = np.transpose(np.array([[0, 0, 0]], dtype=np.float64))\n",
    "    for landmark_idx in range(l):\n",
    "        #q*S(R_hat.T x z)\n",
    "        first = q[landmark_idx]*function_S(np.matmul(np.transpose(input_R_hat), np.transpose(input_z[landmark_idx])))\n",
    "        #Pi_d\n",
    "        #TODO: remember to change the R_0 and p_0 below for gerenal\n",
    "        second = function_Pi(function_d(input_R, input_p, np.transpose(input_z[landmark_idx]))) #TODO\n",
    "        #(p_bar_hat - R_hat.T x z)\n",
    "        third = input_p_bar_hat - np.matmul(np.transpose(input_R_hat), np.transpose(input_z[landmark_idx]))\n",
    "        final += np.matmul(first, np.matmul(second, third))\n",
    "\n",
    "    # omega_hat second part lower\n",
    "    final2 = np.transpose(np.array([[0, 0, 0]], dtype=np.float64))\n",
    "    for landmark_idx in range(l):\n",
    "        #q*Pi_d\n",
    "        #TODO: remember to change the R_0 and p_0 below for gerenal\n",
    "        first = q[landmark_idx]*function_Pi(function_d(input_R, input_p, np.transpose(input_z[landmark_idx]))) #TODO\n",
    "        #(p_bar_hat - R_hat.T x z)\n",
    "        second = input_p_bar_hat - np.matmul(np.transpose(input_R_hat), np.transpose(input_z[landmark_idx]))\n",
    "        final2 += np.matmul(first, second)\n",
    "    second_part = np.vstack((final, final2))\n",
    "    #kP[]\n",
    "    #full second part \n",
    "    second_part = k*np.matmul(input_P, second_part)\n",
    "\n",
    "    # Final\n",
    "    output_omega_hat_p_bar_hat_dot = first_part - second_part\n",
    "\n",
    "    output_omega = output_omega_hat_p_bar_hat_dot[0:3]\n",
    "    output_R_hat_dot = np.matmul(input_R_hat, function_S(output_omega))\n",
    "\n",
    "    output_P_dot = np.matmul(input_A, input_P) + np.matmul(input_P, np.transpose(input_A)) - np.matmul(input_P, np.matmul(np.transpose(input_C), np.matmul(input_Q, np.matmul(input_C, input_P)))) + input_V\n",
    "    return output_omega_hat_p_bar_hat_dot, output_R_hat_dot, output_P_dot"
   ]
  },
  {
   "cell_type": "code",
   "execution_count": 12,
   "metadata": {},
   "outputs": [],
   "source": [
    "def function_K(input_P, input_C, input_Q, input_k):\n",
    "    #TODO: HAVENT CHECK THIS FUNCTION\n",
    "    return input_k* np.matmul(input_P, np.matmul(np.transpose(input_C), input_Q))"
   ]
  },
  {
   "cell_type": "code",
   "execution_count": 13,
   "metadata": {},
   "outputs": [],
   "source": [
    "# time = np.linspace(0, 10, 9)\n",
    "# R_hat_dot = None\n",
    "# p_bar_hat_dot = None\n",
    "# P_dot = None\n",
    "# omega_hat = None\n",
    "# R_tile_bar = None\n",
    "# for idx, t in enumerate(time):\n",
    "\n",
    "#     ######################################################\n",
    "#     ############### expected trajectory ##################\n",
    "#     ######################################################\n",
    "#     #current pose\n",
    "#     p = np.transpose(np.array([[2.5+2.5*np.cos(0.4*t), 2.5*np.sin(0.4*t), 10]]))\n",
    "#     #current velocity\n",
    "#     v = np.transpose(np.array([[-np.sin(0.4*t), np.cos(0.4*t), 0.6*t]]))\n",
    "#     #current angular velocity\n",
    "#     omega = np.transpose(np.array([[0.1*np.sin(t), 0.4*np.cos(2*t), 0.6*t]]))\n",
    "    \n",
    "#     if idx == 0:\n",
    "#         R = R_0\n",
    "#         R_hat = R_hat_0 # can also be = np.matmul(R_0, rodrigues_formula(Lambda_bar_0))\n",
    "#         p_hat = p_hat_0\n",
    "#         P = P_0\n",
    "#         p_bar_hat = add_bar(R, p_hat)\n",
    "#     else:\n",
    "#         R = \n",
    "#         P = P_dot\n",
    "#         v_bar = add_bar(R, v)\n",
    "#         # system predict\n",
    "#         #TODO: use this R_hat_dot to calculate _2_lambda_bar??\n",
    "#         #TODO: how to get R_tile_bar???\n",
    "        \n",
    "#         #omega_tile_bar := omega - R_tile_bar.T x omega_hat\n",
    "#         omega_tile_bar = omega - np.matmul(R_tile_bar, omega_hat)\n",
    "#         _2_lambda_bar_dot = -np.matmul(function_S(omega), _2_lambda_bar) + omega_tile\n",
    "#         # change _2_lambda_bar_dot to R_tile_bar\n",
    "#         R_tile_bar = rodrigues_formula(_2_lambda_bar_dot/2) ### R_hat = R x R_tile_bar\n",
    "#         R_hat = np.matmul(R, R_tile_bar) \n",
    "#         # p_bar_hat = ?????\n",
    "#         p_bar_dot = -np.matmul(function_S(omega), p_bar) + v_bar ####TODO: should this be the p_bar_hat???\n",
    "\n",
    "#     #current A\n",
    "#     A = function_A(omega)\n",
    "#     #TODO: R_0, p_0 should be changing\n",
    "#     #current C\n",
    "#     C = function_C(R, R_hat, p, z)\n",
    "\n",
    "#     #observer\n",
    "\n",
    "#     #Kalman gain\n",
    "#     K = 1 #in the example\n",
    "#     # K = function_K(P, C, Q, k)\n",
    "\n",
    "#     #TODO: R_0, p_0, p_hat_0, P_0 should be changing\n",
    "#     #current observer equations\n",
    "#     omega_hat_p_bar_hat_dot, R_hat_dot, P_dot = observer_equation(omega, R, R_hat, p, p_bar_hat, z, v, A, C, P, Q, V)\n",
    "#     omega_hat = omega_hat_p_bar_hat_dot[0:3]\n",
    "#     p_bar_hat_dot = omega_hat_p_bar_hat_dot[3:]\n",
    "#     break\n"
   ]
  },
  {
   "cell_type": "code",
   "execution_count": 14,
   "metadata": {},
   "outputs": [],
   "source": [
    "def remove_bar(input_R, input_p):\n",
    "    return np.matmul(np.transpose(np.linalg.inv(input_R)), input_p)"
   ]
  },
  {
   "cell_type": "code",
   "execution_count": 15,
   "metadata": {},
   "outputs": [],
   "source": [
    "# #################################\n",
    "# ###### Euler ######\n",
    "# #################################\n",
    "\n",
    "# time = np.linspace(0, 1, 9)\n",
    "# R_hat_dot = None\n",
    "# p_bar_hat_dot = None\n",
    "# P_dot = None\n",
    "# omega_hat = None\n",
    "# R_tile_bar = None\n",
    "# p_hat_dot = None\n",
    "\n",
    "# for idx, t in enumerate(time):\n",
    "\n",
    "#     ######################################################\n",
    "#     ############### expected trajectory ##################\n",
    "#     ######################################################\n",
    "#     #current pose\n",
    "#     p = np.transpose(np.array([[2.5+2.5*np.cos(0.4*t), 2.5*np.sin(0.4*t), 10]]))\n",
    "\n",
    "#     ######################################################\n",
    "#     #################### Meaasurment #####################\n",
    "#     ######################################################\n",
    "#     #current velocity\n",
    "#     v = np.transpose(np.array([[-np.sin(0.4*t), np.cos(0.4*t), 0]]))\n",
    "#     #current angular velocity\n",
    "#     omega = np.transpose(np.array([[0.1*np.sin(t), 0.4*np.cos(2*t), 0.6*t]]))\n",
    "    \n",
    "#     ######################################################\n",
    "#     ################# initialization #####################\n",
    "#     ######################################################\n",
    "#     if idx == 0:\n",
    "#         Rot_hat = R_hat_0 \n",
    "#         Rot = R_0\n",
    "#         p_hat = p_hat_0\n",
    "#         P_ricatti = P_0\n",
    "#         omega = omega\n",
    "#     else:\n",
    "#         if idx != 1:\n",
    "#             Rot_hat = R_next_hat\n",
    "#             p_hat = p_next_hat\n",
    "#             P_ricatti = P_dot\n",
    "#             omega = omega #omega_hat\n",
    "#             Rot = np.matmul(Rot, function_S(omega))\n",
    "#         ######################################################\n",
    "#         ##################### update #########################\n",
    "#         ######################################################\n",
    "#         ### SYSTEM \n",
    "#         A_system = function_A(omega)\n",
    "#         C_obs = function_C(Rot, Rot_hat, p, z)\n",
    "#         # P_dot in the observer_equation\n",
    "    \n",
    "#         ### Observer\n",
    "#         #Kalman gain\n",
    "#         K = 1 #in the example\n",
    "#         # K = function_K(P, C, Q, k)\n",
    "    \n",
    "#         #TODO: R_0, p_0, p_hat_0, P_0 should be changing\n",
    "#         #current observer equations\n",
    "#         omega_hat_p_bar_hat_dot, R_hat_dot, P_dot = observer_equation(omega,\n",
    "#                                             Rot, Rot_hat, p, p_hat, z, v, A_system, C_obs, P_ricatti, Q, V)\n",
    "#         omega_hat = omega_hat_p_bar_hat_dot[0:3]\n",
    "#         p_bar_hat_dot = omega_hat_p_bar_hat_dot[3:]\n",
    "#         print(\"========================\")\n",
    "#         print(omega_hat_p_bar_hat_dot)\n",
    "#         print(\"========================\")\n",
    "#         R_next_hat = Rot_hat + R_hat_dot*(t-last_time)\n",
    "#         p_next_bar_hat = p_hat + p_bar_hat_dot*(t - last_time)\n",
    "#         p_next_hat = remove_bar(R_next_hat, p_next_bar_hat)\n",
    "\n",
    "#     last_time = t"
   ]
  },
  {
   "cell_type": "code",
   "execution_count": 16,
   "metadata": {},
   "outputs": [
    {
     "name": "stderr",
     "output_type": "stream",
     "text": [
      "/tmp/ipykernel_128984/1805208110.py:59: RuntimeWarning: overflow encountered in matmul\n",
      "  second_part = input_k*np.matmul(input_P, second_part)\n",
      "/tmp/ipykernel_128984/1805208110.py:59: RuntimeWarning: invalid value encountered in matmul\n",
      "  second_part = input_k*np.matmul(input_P, second_part)\n",
      "/tmp/ipykernel_128984/1805208110.py:64: RuntimeWarning: overflow encountered in matmul\n",
      "  input_P = np.matmul(input_A, input_P) + np.matmul(input_P, np.transpose(input_A)) - np.matmul(input_P, np.matmul(np.transpose(input_C), np.matmul(input_Q, np.matmul(input_C, input_P)))) + input_V\n",
      "/tmp/ipykernel_128984/1805208110.py:64: RuntimeWarning: invalid value encountered in matmul\n",
      "  input_P = np.matmul(input_A, input_P) + np.matmul(input_P, np.transpose(input_A)) - np.matmul(input_P, np.matmul(np.transpose(input_C), np.matmul(input_Q, np.matmul(input_C, input_P)))) + input_V\n"
     ]
    }
   ],
   "source": [
    "import numpy as np\n",
    "delta_t = 0.1\n",
    "times = np.arange(0, 1, delta_t)\n",
    "omega_hat = np.transpose(np.array([[0, 0, 0]], dtype=np.float64))\n",
    "input_R = R_0\n",
    "input_p_bar_hat = add_bar(R_hat_0, p_hat_0)\n",
    "input_R_hat = R_hat_0\n",
    "input_P = P_0\n",
    "input_p_bar_hat_list = []\n",
    "input_z = z\n",
    "input_k = k\n",
    "input_Q = Q\n",
    "input_V = V\n",
    "for t in times:\n",
    "    # pose\n",
    "    input_p = np.transpose(np.array([[2.5+2.5*np.cos(0.4*t), 2.5*np.sin(0.4*t), 10]]))\n",
    "    \n",
    "    # velocity\n",
    "    input_v = np.transpose(np.array([[-np.sin(0.4*t), np.cos(0.4*t), 0]]))\n",
    "    # angular velocity\n",
    "    input_omega = np.transpose(np.array([[0.1*np.sin(t), 0.4*np.cos(2*t), 0.6*t]]))\n",
    "    \n",
    "    input_A = function_A(input_omega)\n",
    "    input_C = function_C(input_R, input_R_hat, input_p, input_z)\n",
    "\n",
    "    # omega_hat , p_bar_hat_dot\n",
    "    # omega\n",
    "    first_upper = input_omega\n",
    "    \n",
    "    # -S(omega)p_bat_hat + v_bar\n",
    "    #TODO: change this for general (R_0)\n",
    "    first_lower = np.matmul(-function_S(input_omega), input_p_bar_hat) + add_bar(input_R, input_v)\n",
    "    first_part = np.vstack((first_upper, first_lower))\n",
    "\n",
    "    # omega_hat second part upper\n",
    "    final = np.transpose(np.array([[0, 0, 0]], dtype=np.float64))\n",
    "    for landmark_idx in range(l):\n",
    "        #q*S(R_hat.T x z)\n",
    "        first = q[landmark_idx]*function_S(np.matmul(np.transpose(input_R_hat), np.transpose(input_z[landmark_idx])))\n",
    "        #Pi_d\n",
    "        #TODO: remember to change the R_0 and p_0 below for gerenal\n",
    "        second = function_Pi(function_d(input_R, input_p, np.transpose(input_z[landmark_idx]))) #TODO\n",
    "        #(p_bar_hat - R_hat.T x z)\n",
    "        third = input_p_bar_hat - np.matmul(np.transpose(input_R_hat), np.transpose(input_z[landmark_idx]))\n",
    "        final += np.matmul(first, np.matmul(second, third))\n",
    "\n",
    "    # omega_hat second part lower\n",
    "    final2 = np.transpose(np.array([[0, 0, 0]], dtype=np.float64))\n",
    "    for landmark_idx in range(l):\n",
    "        #q*Pi_d\n",
    "        #TODO: remember to change the R_0 and p_0 below for gerenal\n",
    "        first = q[landmark_idx]*function_Pi(function_d(input_R, input_p, np.transpose(input_z[landmark_idx]))) #TODO\n",
    "        #(p_bar_hat - R_hat.T x z)\n",
    "        second = input_p_bar_hat - np.matmul(np.transpose(input_R_hat), np.transpose(input_z[landmark_idx]))\n",
    "        final2 += np.matmul(first, second)\n",
    "    second_part = np.vstack((final, final2))\n",
    "    #kP[]\n",
    "    #full second part \n",
    "    second_part = input_k*np.matmul(input_P, second_part)\n",
    "\n",
    "    # Final\n",
    "    output_omega_hat_p_bar_hat_dot = first_part - second_part\n",
    "\n",
    "    input_P = np.matmul(input_A, input_P) + np.matmul(input_P, np.transpose(input_A)) - np.matmul(input_P, np.matmul(np.transpose(input_C), np.matmul(input_Q, np.matmul(input_C, input_P)))) + input_V\n",
    "    \n",
    "    omega_hat += output_omega_hat_p_bar_hat_dot[0:3]*delta_t\n",
    "    input_R_hat += np.matmul(input_R_hat, function_S(omega_hat))*delta_t\n",
    "    input_p_bar_hat += output_omega_hat_p_bar_hat_dot[3:]*delta_t\n",
    "    input_p_bar_hat_list.append(input_p_bar_hat.flatten())\n",
    "    input_R += np.matmul(input_R, function_S(input_omega))*delta_t\n",
    "\n",
    "    # (Rot.flatten(), Rot_hat.flatten(), p_bar_hat.flatten(), P_ricatti.flatten())\n",
    "    # return np.concatenate((output_R.flatten(), output_R_hat_dot.flatten(), p_bar_hat_dot.flatten(), output_P_dot.flatten()))\n"
   ]
  },
  {
   "cell_type": "code",
   "execution_count": 17,
   "metadata": {},
   "outputs": [
    {
     "data": {
      "image/png": "[encoded data removed]",
      "text/plain": [
       "<Figure size 640x480 with 1 Axes>"
      ]
     },
     "metadata": {},
     "output_type": "display_data"
    },
    {
     "data": {
      "image/png": "[encoded data removed]",
      "text/plain": [
       "<Figure size 640x480 with 1 Axes>"
      ]
     },
     "metadata": {},
     "output_type": "display_data"
    },
    {
     "name": "stdout",
     "output_type": "stream",
     "text": [
      "[array([1073.16, -821.9 , -154.08]), array([ 8.74778136e+08, -8.93513383e+08, -2.85030662e+08]), array([-3.75733045e+26,  1.97413248e+27,  2.57721912e+26]), array([ 6.04133304e+98, -4.70640533e+99, -5.44922732e+98]), array([nan, nan, nan]), array([nan, nan, nan]), array([nan, nan, nan]), array([nan, nan, nan]), array([nan, nan, nan]), array([nan, nan, nan])]\n"
     ]
    }
   ],
   "source": [
    "from copy import deepcopy\n",
    "p_bar_print = []\n",
    "R_curr = np.eye(3)\n",
    "for idx, t in enumerate(times):\n",
    "    p = np.array([2.5+2.5*np.cos(0.4*t), 2.5*np.sin(0.4*t), 10])\n",
    "    omega = np.array([0.1*np.sin(t), 0.4*np.cos(2*t), 0.6*t])\n",
    "    R_new = np.dot(R_curr, function_S(omega))\n",
    "    # R_curr = deepcopy(R_new)\n",
    "    p_bar_temp = np.matmul(np.transpose(R_new), p)\n",
    "    p_bar_print.append(p)\n",
    "\n",
    "import matplotlib.pyplot as plt\n",
    "figure = plt.subplot()\n",
    "plt.plot(times, p_bar_print, label=[\"x\", \"y\", \"z\"])\n",
    "plt.legend()\n",
    "plt.show()\n",
    "\n",
    "plt.plot(times, input_p_bar_hat_list, label=[\"est_x\", \"est_y\", \"est_z\"])\n",
    "plt.legend()\n",
    "plt.show()\n",
    "\n",
    "# plt.plot(times, p_bar_print-input_p_bar_hat_list, label=[\"diff_x\", \"diff_y\", \"diff_z\"])\n",
    "# plt.legend()\n",
    "# plt.show()\n",
    "print(input_p_bar_hat_list)"
   ]
  }
 ],
 "metadata": {
  "kernelspec": {
   "display_name": "Python 3",
   "language": "python",
   "name": "python3"
  },
  "language_info": {
   "codemirror_mode": {
    "name": "ipython",
    "version": 3
   },
   "file_extension": ".py",
   "mimetype": "text/x-python",
   "name": "python",
   "nbconvert_exporter": "python",
   "pygments_lexer": "ipython3",
   "version": "3.8.10"
  }
 },
 "nbformat": 4,
 "nbformat_minor": 2
}
