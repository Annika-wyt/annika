{
 "cells": [
  {
   "cell_type": "code",
   "execution_count": 16,
   "metadata": {},
   "outputs": [
    {
     "data": {
      "text/plain": [
       "array([ 0.66568431,  0.44378956,  0.22189474, -0.55738489])"
      ]
     },
     "execution_count": 16,
     "metadata": {},
     "output_type": "execute_result"
    }
   ],
   "source": [
    "import numpy as np\n",
    "\n",
    "R = np.array([[0.5076271,  0.3434859,  0.7901469],\n",
    "  [ 0.8382091,  0.0152542, -0.5451356],\n",
    "  [-0.1992995,  0.9390339, -0.2801695]])\n",
    "\n",
    "if (R[2,2] < 0):\n",
    "    if (R[0,0] >R[1,1]):\n",
    "        t = 1 + R[0,0] -R[1,1] -R[2,2]\n",
    "        q = np.array([t, R[0,1]+R[1,0], R[2,0]+R[0,2], R[1,2]-R[2,1]])\n",
    "    else:\n",
    "        t = 1 -R[0,0] + R[1,1] -R[2,2]\n",
    "        q = np.array([R[0,1]+R[1,0], t, R[1,2]+R[2,1], R[2,0]-R[0,2]])\n",
    "else:\n",
    "    if (R[0,0] < -R[1,1]):\n",
    "        t = 1 -R[0,0] -R[1,1] + R[2,2]\n",
    "        q = np.array([R[2,0]+R[0,2], R[1,2]+R[2,1], t, R[0,1]-R[1,0]])\n",
    "    else:\n",
    "        t = 1 + R[0,0] + R[1,1] + R[2,2]\n",
    "        q = np.array([R[1,2]-R[2,1], R[2,0]-R[0,2], R[0,1]-R[1,0], t])\n",
    "q *= 0.5 / np.sqrt(t)\n",
    "q"
   ]
  },
  {
   "cell_type": "code",
   "execution_count": 17,
   "metadata": {},
   "outputs": [
    {
     "name": "stdout",
     "output_type": "stream",
     "text": [
      "[0.66568432 0.44378957 0.22189475 0.5573849 ]\n"
     ]
    }
   ],
   "source": [
    "from scipy.spatial.transform import Rotation as ScipyRot\n",
    "plot_lambda_bar = []\n",
    "rot = ScipyRot.from_matrix(R)\n",
    "print(rot.as_quat())"
   ]
  }
 ],
 "metadata": {
  "kernelspec": {
   "display_name": "Python 3",
   "language": "python",
   "name": "python3"
  },
  "language_info": {
   "codemirror_mode": {
    "name": "ipython",
    "version": 3
   },
   "file_extension": ".py",
   "mimetype": "text/x-python",
   "name": "python",
   "nbconvert_exporter": "python",
   "pygments_lexer": "ipython3",
   "version": "3.8.10"
  }
 },
 "nbformat": 4,
 "nbformat_minor": 2
}
